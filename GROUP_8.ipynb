{
  "nbformat": 4,
  "nbformat_minor": 0,
  "metadata": {
    "colab": {
      "provenance": []
    },
    "kernelspec": {
      "name": "python3",
      "display_name": "Python 3"
    },
    "language_info": {
      "name": "python"
    }
  },
  "cells": [
    {
      "cell_type": "markdown",
      "source": [
        "Technological Institute of the Philippines | Quezon City - Computer Engineering\n",
        "--- | ---\n",
        "Course Code: | CPE 019\n",
        "Code Title: | Emerging Technologies in CpE 2\n",
        "2nd Semester | AY 2023-2024\n",
        "<hr> | <hr>\n",
        "<u>**PRELIM EXAM** |\n",
        "**Members:** | Bautista, Daryll Milton Victor E.\n",
        "| Tavares, Nicole Ann V.\n",
        "**Section** | CPE32S5\n",
        "**Date Performed**: | 03/05/2024\n",
        "**Date Submitted**: | 03/10/2024\n",
        "**Instructor**: | Engr. Roman M. Richard"
      ],
      "metadata": {
        "id": "f3m5_OYWYkvb"
      }
    },
    {
      "cell_type": "markdown",
      "source": [
        "#**Goals:**\n",
        "\n",
        "> Linear Regression\n",
        "- Singular LR\n",
        "- Multiple LR\n",
        "- Polynomial LR\n",
        "- Logistic Regression\n",
        "- Decision Tree\n",
        "- Random Forest\n",
        "- Provide Evaluation reports for all models"
      ],
      "metadata": {
        "id": "0YFW3eqmZdkb"
      }
    },
    {
      "cell_type": "markdown",
      "source": [
        "**LINEAR REGRESSION**\n",
        "\n",
        "\n",
        "\n",
        "\n",
        "\n",
        "\n"
      ],
      "metadata": {
        "id": "V1BNlET8QOA1"
      }
    },
    {
      "cell_type": "code",
      "execution_count": null,
      "metadata": {
        "id": "R-vnqosAEL3W"
      },
      "outputs": [],
      "source": [
        "import pandas as pd\n",
        "import numpy as np\n",
        "import matplotlib as plt"
      ]
    },
    {
      "cell_type": "code",
      "source": [
        "from google.colab import drive\n",
        "drive.mount('/content/drive')"
      ],
      "metadata": {
        "colab": {
          "base_uri": "https://localhost:8080/"
        },
        "id": "jjIZJ-pUFQ5s",
        "outputId": "50cbe820-b91d-40b6-dc3d-3a760dd7b4fc"
      },
      "execution_count": null,
      "outputs": [
        {
          "output_type": "stream",
          "name": "stdout",
          "text": [
            "Mounted at /content/drive\n"
          ]
        }
      ]
    },
    {
      "cell_type": "code",
      "source": [
        "filepath = \"/content/drive/MyDrive/EMTECH/real_estate_price_size_year.csv\""
      ],
      "metadata": {
        "id": "20b1dDq_FbkV"
      },
      "execution_count": null,
      "outputs": []
    },
    {
      "cell_type": "code",
      "source": [
        "real_estate = pd.read_csv(filepath)\n",
        "real_estate"
      ],
      "metadata": {
        "colab": {
          "base_uri": "https://localhost:8080/",
          "height": 423
        },
        "id": "rB4zVXsTFeuU",
        "outputId": "652d9cdd-c058-440c-c610-97bd6a798637"
      },
      "execution_count": null,
      "outputs": [
        {
          "output_type": "execute_result",
          "data": {
            "text/plain": [
              "         price     size  year\n",
              "0   234314.144   643.09  2015\n",
              "1   228581.528   656.22  2009\n",
              "2   281626.336   487.29  2018\n",
              "3   401255.608  1504.75  2015\n",
              "4   458674.256  1275.46  2009\n",
              "..         ...      ...   ...\n",
              "95  252460.400   549.80  2009\n",
              "96  310522.592  1037.44  2009\n",
              "97  383635.568  1504.75  2006\n",
              "98  225145.248   648.29  2015\n",
              "99  274922.856   705.29  2006\n",
              "\n",
              "[100 rows x 3 columns]"
            ],
            "text/html": [
              "\n",
              "  <div id=\"df-72c3f1a3-af2d-4161-b96d-0591ad9033cc\" class=\"colab-df-container\">\n",
              "    <div>\n",
              "<style scoped>\n",
              "    .dataframe tbody tr th:only-of-type {\n",
              "        vertical-align: middle;\n",
              "    }\n",
              "\n",
              "    .dataframe tbody tr th {\n",
              "        vertical-align: top;\n",
              "    }\n",
              "\n",
              "    .dataframe thead th {\n",
              "        text-align: right;\n",
              "    }\n",
              "</style>\n",
              "<table border=\"1\" class=\"dataframe\">\n",
              "  <thead>\n",
              "    <tr style=\"text-align: right;\">\n",
              "      <th></th>\n",
              "      <th>price</th>\n",
              "      <th>size</th>\n",
              "      <th>year</th>\n",
              "    </tr>\n",
              "  </thead>\n",
              "  <tbody>\n",
              "    <tr>\n",
              "      <th>0</th>\n",
              "      <td>234314.144</td>\n",
              "      <td>643.09</td>\n",
              "      <td>2015</td>\n",
              "    </tr>\n",
              "    <tr>\n",
              "      <th>1</th>\n",
              "      <td>228581.528</td>\n",
              "      <td>656.22</td>\n",
              "      <td>2009</td>\n",
              "    </tr>\n",
              "    <tr>\n",
              "      <th>2</th>\n",
              "      <td>281626.336</td>\n",
              "      <td>487.29</td>\n",
              "      <td>2018</td>\n",
              "    </tr>\n",
              "    <tr>\n",
              "      <th>3</th>\n",
              "      <td>401255.608</td>\n",
              "      <td>1504.75</td>\n",
              "      <td>2015</td>\n",
              "    </tr>\n",
              "    <tr>\n",
              "      <th>4</th>\n",
              "      <td>458674.256</td>\n",
              "      <td>1275.46</td>\n",
              "      <td>2009</td>\n",
              "    </tr>\n",
              "    <tr>\n",
              "      <th>...</th>\n",
              "      <td>...</td>\n",
              "      <td>...</td>\n",
              "      <td>...</td>\n",
              "    </tr>\n",
              "    <tr>\n",
              "      <th>95</th>\n",
              "      <td>252460.400</td>\n",
              "      <td>549.80</td>\n",
              "      <td>2009</td>\n",
              "    </tr>\n",
              "    <tr>\n",
              "      <th>96</th>\n",
              "      <td>310522.592</td>\n",
              "      <td>1037.44</td>\n",
              "      <td>2009</td>\n",
              "    </tr>\n",
              "    <tr>\n",
              "      <th>97</th>\n",
              "      <td>383635.568</td>\n",
              "      <td>1504.75</td>\n",
              "      <td>2006</td>\n",
              "    </tr>\n",
              "    <tr>\n",
              "      <th>98</th>\n",
              "      <td>225145.248</td>\n",
              "      <td>648.29</td>\n",
              "      <td>2015</td>\n",
              "    </tr>\n",
              "    <tr>\n",
              "      <th>99</th>\n",
              "      <td>274922.856</td>\n",
              "      <td>705.29</td>\n",
              "      <td>2006</td>\n",
              "    </tr>\n",
              "  </tbody>\n",
              "</table>\n",
              "<p>100 rows × 3 columns</p>\n",
              "</div>\n",
              "    <div class=\"colab-df-buttons\">\n",
              "\n",
              "  <div class=\"colab-df-container\">\n",
              "    <button class=\"colab-df-convert\" onclick=\"convertToInteractive('df-72c3f1a3-af2d-4161-b96d-0591ad9033cc')\"\n",
              "            title=\"Convert this dataframe to an interactive table.\"\n",
              "            style=\"display:none;\">\n",
              "\n",
              "  <svg xmlns=\"http://www.w3.org/2000/svg\" height=\"24px\" viewBox=\"0 -960 960 960\">\n",
              "    <path d=\"M120-120v-720h720v720H120Zm60-500h600v-160H180v160Zm220 220h160v-160H400v160Zm0 220h160v-160H400v160ZM180-400h160v-160H180v160Zm440 0h160v-160H620v160ZM180-180h160v-160H180v160Zm440 0h160v-160H620v160Z\"/>\n",
              "  </svg>\n",
              "    </button>\n",
              "\n",
              "  <style>\n",
              "    .colab-df-container {\n",
              "      display:flex;\n",
              "      gap: 12px;\n",
              "    }\n",
              "\n",
              "    .colab-df-convert {\n",
              "      background-color: #E8F0FE;\n",
              "      border: none;\n",
              "      border-radius: 50%;\n",
              "      cursor: pointer;\n",
              "      display: none;\n",
              "      fill: #1967D2;\n",
              "      height: 32px;\n",
              "      padding: 0 0 0 0;\n",
              "      width: 32px;\n",
              "    }\n",
              "\n",
              "    .colab-df-convert:hover {\n",
              "      background-color: #E2EBFA;\n",
              "      box-shadow: 0px 1px 2px rgba(60, 64, 67, 0.3), 0px 1px 3px 1px rgba(60, 64, 67, 0.15);\n",
              "      fill: #174EA6;\n",
              "    }\n",
              "\n",
              "    .colab-df-buttons div {\n",
              "      margin-bottom: 4px;\n",
              "    }\n",
              "\n",
              "    [theme=dark] .colab-df-convert {\n",
              "      background-color: #3B4455;\n",
              "      fill: #D2E3FC;\n",
              "    }\n",
              "\n",
              "    [theme=dark] .colab-df-convert:hover {\n",
              "      background-color: #434B5C;\n",
              "      box-shadow: 0px 1px 3px 1px rgba(0, 0, 0, 0.15);\n",
              "      filter: drop-shadow(0px 1px 2px rgba(0, 0, 0, 0.3));\n",
              "      fill: #FFFFFF;\n",
              "    }\n",
              "  </style>\n",
              "\n",
              "    <script>\n",
              "      const buttonEl =\n",
              "        document.querySelector('#df-72c3f1a3-af2d-4161-b96d-0591ad9033cc button.colab-df-convert');\n",
              "      buttonEl.style.display =\n",
              "        google.colab.kernel.accessAllowed ? 'block' : 'none';\n",
              "\n",
              "      async function convertToInteractive(key) {\n",
              "        const element = document.querySelector('#df-72c3f1a3-af2d-4161-b96d-0591ad9033cc');\n",
              "        const dataTable =\n",
              "          await google.colab.kernel.invokeFunction('convertToInteractive',\n",
              "                                                    [key], {});\n",
              "        if (!dataTable) return;\n",
              "\n",
              "        const docLinkHtml = 'Like what you see? Visit the ' +\n",
              "          '<a target=\"_blank\" href=https://colab.research.google.com/notebooks/data_table.ipynb>data table notebook</a>'\n",
              "          + ' to learn more about interactive tables.';\n",
              "        element.innerHTML = '';\n",
              "        dataTable['output_type'] = 'display_data';\n",
              "        await google.colab.output.renderOutput(dataTable, element);\n",
              "        const docLink = document.createElement('div');\n",
              "        docLink.innerHTML = docLinkHtml;\n",
              "        element.appendChild(docLink);\n",
              "      }\n",
              "    </script>\n",
              "  </div>\n",
              "\n",
              "\n",
              "<div id=\"df-63ff7eb9-25c6-4bd6-b5ba-38a9f0af1364\">\n",
              "  <button class=\"colab-df-quickchart\" onclick=\"quickchart('df-63ff7eb9-25c6-4bd6-b5ba-38a9f0af1364')\"\n",
              "            title=\"Suggest charts\"\n",
              "            style=\"display:none;\">\n",
              "\n",
              "<svg xmlns=\"http://www.w3.org/2000/svg\" height=\"24px\"viewBox=\"0 0 24 24\"\n",
              "     width=\"24px\">\n",
              "    <g>\n",
              "        <path d=\"M19 3H5c-1.1 0-2 .9-2 2v14c0 1.1.9 2 2 2h14c1.1 0 2-.9 2-2V5c0-1.1-.9-2-2-2zM9 17H7v-7h2v7zm4 0h-2V7h2v10zm4 0h-2v-4h2v4z\"/>\n",
              "    </g>\n",
              "</svg>\n",
              "  </button>\n",
              "\n",
              "<style>\n",
              "  .colab-df-quickchart {\n",
              "      --bg-color: #E8F0FE;\n",
              "      --fill-color: #1967D2;\n",
              "      --hover-bg-color: #E2EBFA;\n",
              "      --hover-fill-color: #174EA6;\n",
              "      --disabled-fill-color: #AAA;\n",
              "      --disabled-bg-color: #DDD;\n",
              "  }\n",
              "\n",
              "  [theme=dark] .colab-df-quickchart {\n",
              "      --bg-color: #3B4455;\n",
              "      --fill-color: #D2E3FC;\n",
              "      --hover-bg-color: #434B5C;\n",
              "      --hover-fill-color: #FFFFFF;\n",
              "      --disabled-bg-color: #3B4455;\n",
              "      --disabled-fill-color: #666;\n",
              "  }\n",
              "\n",
              "  .colab-df-quickchart {\n",
              "    background-color: var(--bg-color);\n",
              "    border: none;\n",
              "    border-radius: 50%;\n",
              "    cursor: pointer;\n",
              "    display: none;\n",
              "    fill: var(--fill-color);\n",
              "    height: 32px;\n",
              "    padding: 0;\n",
              "    width: 32px;\n",
              "  }\n",
              "\n",
              "  .colab-df-quickchart:hover {\n",
              "    background-color: var(--hover-bg-color);\n",
              "    box-shadow: 0 1px 2px rgba(60, 64, 67, 0.3), 0 1px 3px 1px rgba(60, 64, 67, 0.15);\n",
              "    fill: var(--button-hover-fill-color);\n",
              "  }\n",
              "\n",
              "  .colab-df-quickchart-complete:disabled,\n",
              "  .colab-df-quickchart-complete:disabled:hover {\n",
              "    background-color: var(--disabled-bg-color);\n",
              "    fill: var(--disabled-fill-color);\n",
              "    box-shadow: none;\n",
              "  }\n",
              "\n",
              "  .colab-df-spinner {\n",
              "    border: 2px solid var(--fill-color);\n",
              "    border-color: transparent;\n",
              "    border-bottom-color: var(--fill-color);\n",
              "    animation:\n",
              "      spin 1s steps(1) infinite;\n",
              "  }\n",
              "\n",
              "  @keyframes spin {\n",
              "    0% {\n",
              "      border-color: transparent;\n",
              "      border-bottom-color: var(--fill-color);\n",
              "      border-left-color: var(--fill-color);\n",
              "    }\n",
              "    20% {\n",
              "      border-color: transparent;\n",
              "      border-left-color: var(--fill-color);\n",
              "      border-top-color: var(--fill-color);\n",
              "    }\n",
              "    30% {\n",
              "      border-color: transparent;\n",
              "      border-left-color: var(--fill-color);\n",
              "      border-top-color: var(--fill-color);\n",
              "      border-right-color: var(--fill-color);\n",
              "    }\n",
              "    40% {\n",
              "      border-color: transparent;\n",
              "      border-right-color: var(--fill-color);\n",
              "      border-top-color: var(--fill-color);\n",
              "    }\n",
              "    60% {\n",
              "      border-color: transparent;\n",
              "      border-right-color: var(--fill-color);\n",
              "    }\n",
              "    80% {\n",
              "      border-color: transparent;\n",
              "      border-right-color: var(--fill-color);\n",
              "      border-bottom-color: var(--fill-color);\n",
              "    }\n",
              "    90% {\n",
              "      border-color: transparent;\n",
              "      border-bottom-color: var(--fill-color);\n",
              "    }\n",
              "  }\n",
              "</style>\n",
              "\n",
              "  <script>\n",
              "    async function quickchart(key) {\n",
              "      const quickchartButtonEl =\n",
              "        document.querySelector('#' + key + ' button');\n",
              "      quickchartButtonEl.disabled = true;  // To prevent multiple clicks.\n",
              "      quickchartButtonEl.classList.add('colab-df-spinner');\n",
              "      try {\n",
              "        const charts = await google.colab.kernel.invokeFunction(\n",
              "            'suggestCharts', [key], {});\n",
              "      } catch (error) {\n",
              "        console.error('Error during call to suggestCharts:', error);\n",
              "      }\n",
              "      quickchartButtonEl.classList.remove('colab-df-spinner');\n",
              "      quickchartButtonEl.classList.add('colab-df-quickchart-complete');\n",
              "    }\n",
              "    (() => {\n",
              "      let quickchartButtonEl =\n",
              "        document.querySelector('#df-63ff7eb9-25c6-4bd6-b5ba-38a9f0af1364 button');\n",
              "      quickchartButtonEl.style.display =\n",
              "        google.colab.kernel.accessAllowed ? 'block' : 'none';\n",
              "    })();\n",
              "  </script>\n",
              "</div>\n",
              "    </div>\n",
              "  </div>\n"
            ],
            "application/vnd.google.colaboratory.intrinsic+json": {
              "type": "dataframe",
              "variable_name": "real_estate",
              "summary": "{\n  \"name\": \"real_estate\",\n  \"rows\": 100,\n  \"fields\": [\n    {\n      \"column\": \"price\",\n      \"properties\": {\n        \"dtype\": \"number\",\n        \"std\": 77051.72752473492,\n        \"min\": 154282.128,\n        \"max\": 500681.128,\n        \"num_unique_values\": 100,\n        \"samples\": [\n          282683.544,\n          269523.056,\n          276875.632\n        ],\n        \"semantic_type\": \"\",\n        \"description\": \"\"\n      }\n    },\n    {\n      \"column\": \"size\",\n      \"properties\": {\n        \"dtype\": \"number\",\n        \"std\": 297.9419506683146,\n        \"min\": 479.75,\n        \"max\": 1842.51,\n        \"num_unique_values\": 62,\n        \"samples\": [\n          643.41,\n          601.66,\n          643.09\n        ],\n        \"semantic_type\": \"\",\n        \"description\": \"\"\n      }\n    },\n    {\n      \"column\": \"year\",\n      \"properties\": {\n        \"dtype\": \"number\",\n        \"std\": 4,\n        \"min\": 2006,\n        \"max\": 2018,\n        \"num_unique_values\": 4,\n        \"samples\": [\n          2009,\n          2006,\n          2015\n        ],\n        \"semantic_type\": \"\",\n        \"description\": \"\"\n      }\n    }\n  ]\n}"
            }
          },
          "metadata": {},
          "execution_count": 6
        }
      ]
    },
    {
      "cell_type": "code",
      "source": [
        "real_estate.describe()"
      ],
      "metadata": {
        "colab": {
          "base_uri": "https://localhost:8080/",
          "height": 300
        },
        "id": "xr4SdS4nFsAE",
        "outputId": "512074b9-829f-49ff-8d86-24bd538db4fc"
      },
      "execution_count": null,
      "outputs": [
        {
          "output_type": "execute_result",
          "data": {
            "text/plain": [
              "               price         size         year\n",
              "count     100.000000   100.000000   100.000000\n",
              "mean   292289.470160   853.024200  2012.600000\n",
              "std     77051.727525   297.941951     4.729021\n",
              "min    154282.128000   479.750000  2006.000000\n",
              "25%    234280.148000   643.330000  2009.000000\n",
              "50%    280590.716000   696.405000  2015.000000\n",
              "75%    335723.696000  1029.322500  2018.000000\n",
              "max    500681.128000  1842.510000  2018.000000"
            ],
            "text/html": [
              "\n",
              "  <div id=\"df-6c81bf41-0752-4cac-a3d2-ed7cb15e44a5\" class=\"colab-df-container\">\n",
              "    <div>\n",
              "<style scoped>\n",
              "    .dataframe tbody tr th:only-of-type {\n",
              "        vertical-align: middle;\n",
              "    }\n",
              "\n",
              "    .dataframe tbody tr th {\n",
              "        vertical-align: top;\n",
              "    }\n",
              "\n",
              "    .dataframe thead th {\n",
              "        text-align: right;\n",
              "    }\n",
              "</style>\n",
              "<table border=\"1\" class=\"dataframe\">\n",
              "  <thead>\n",
              "    <tr style=\"text-align: right;\">\n",
              "      <th></th>\n",
              "      <th>price</th>\n",
              "      <th>size</th>\n",
              "      <th>year</th>\n",
              "    </tr>\n",
              "  </thead>\n",
              "  <tbody>\n",
              "    <tr>\n",
              "      <th>count</th>\n",
              "      <td>100.000000</td>\n",
              "      <td>100.000000</td>\n",
              "      <td>100.000000</td>\n",
              "    </tr>\n",
              "    <tr>\n",
              "      <th>mean</th>\n",
              "      <td>292289.470160</td>\n",
              "      <td>853.024200</td>\n",
              "      <td>2012.600000</td>\n",
              "    </tr>\n",
              "    <tr>\n",
              "      <th>std</th>\n",
              "      <td>77051.727525</td>\n",
              "      <td>297.941951</td>\n",
              "      <td>4.729021</td>\n",
              "    </tr>\n",
              "    <tr>\n",
              "      <th>min</th>\n",
              "      <td>154282.128000</td>\n",
              "      <td>479.750000</td>\n",
              "      <td>2006.000000</td>\n",
              "    </tr>\n",
              "    <tr>\n",
              "      <th>25%</th>\n",
              "      <td>234280.148000</td>\n",
              "      <td>643.330000</td>\n",
              "      <td>2009.000000</td>\n",
              "    </tr>\n",
              "    <tr>\n",
              "      <th>50%</th>\n",
              "      <td>280590.716000</td>\n",
              "      <td>696.405000</td>\n",
              "      <td>2015.000000</td>\n",
              "    </tr>\n",
              "    <tr>\n",
              "      <th>75%</th>\n",
              "      <td>335723.696000</td>\n",
              "      <td>1029.322500</td>\n",
              "      <td>2018.000000</td>\n",
              "    </tr>\n",
              "    <tr>\n",
              "      <th>max</th>\n",
              "      <td>500681.128000</td>\n",
              "      <td>1842.510000</td>\n",
              "      <td>2018.000000</td>\n",
              "    </tr>\n",
              "  </tbody>\n",
              "</table>\n",
              "</div>\n",
              "    <div class=\"colab-df-buttons\">\n",
              "\n",
              "  <div class=\"colab-df-container\">\n",
              "    <button class=\"colab-df-convert\" onclick=\"convertToInteractive('df-6c81bf41-0752-4cac-a3d2-ed7cb15e44a5')\"\n",
              "            title=\"Convert this dataframe to an interactive table.\"\n",
              "            style=\"display:none;\">\n",
              "\n",
              "  <svg xmlns=\"http://www.w3.org/2000/svg\" height=\"24px\" viewBox=\"0 -960 960 960\">\n",
              "    <path d=\"M120-120v-720h720v720H120Zm60-500h600v-160H180v160Zm220 220h160v-160H400v160Zm0 220h160v-160H400v160ZM180-400h160v-160H180v160Zm440 0h160v-160H620v160ZM180-180h160v-160H180v160Zm440 0h160v-160H620v160Z\"/>\n",
              "  </svg>\n",
              "    </button>\n",
              "\n",
              "  <style>\n",
              "    .colab-df-container {\n",
              "      display:flex;\n",
              "      gap: 12px;\n",
              "    }\n",
              "\n",
              "    .colab-df-convert {\n",
              "      background-color: #E8F0FE;\n",
              "      border: none;\n",
              "      border-radius: 50%;\n",
              "      cursor: pointer;\n",
              "      display: none;\n",
              "      fill: #1967D2;\n",
              "      height: 32px;\n",
              "      padding: 0 0 0 0;\n",
              "      width: 32px;\n",
              "    }\n",
              "\n",
              "    .colab-df-convert:hover {\n",
              "      background-color: #E2EBFA;\n",
              "      box-shadow: 0px 1px 2px rgba(60, 64, 67, 0.3), 0px 1px 3px 1px rgba(60, 64, 67, 0.15);\n",
              "      fill: #174EA6;\n",
              "    }\n",
              "\n",
              "    .colab-df-buttons div {\n",
              "      margin-bottom: 4px;\n",
              "    }\n",
              "\n",
              "    [theme=dark] .colab-df-convert {\n",
              "      background-color: #3B4455;\n",
              "      fill: #D2E3FC;\n",
              "    }\n",
              "\n",
              "    [theme=dark] .colab-df-convert:hover {\n",
              "      background-color: #434B5C;\n",
              "      box-shadow: 0px 1px 3px 1px rgba(0, 0, 0, 0.15);\n",
              "      filter: drop-shadow(0px 1px 2px rgba(0, 0, 0, 0.3));\n",
              "      fill: #FFFFFF;\n",
              "    }\n",
              "  </style>\n",
              "\n",
              "    <script>\n",
              "      const buttonEl =\n",
              "        document.querySelector('#df-6c81bf41-0752-4cac-a3d2-ed7cb15e44a5 button.colab-df-convert');\n",
              "      buttonEl.style.display =\n",
              "        google.colab.kernel.accessAllowed ? 'block' : 'none';\n",
              "\n",
              "      async function convertToInteractive(key) {\n",
              "        const element = document.querySelector('#df-6c81bf41-0752-4cac-a3d2-ed7cb15e44a5');\n",
              "        const dataTable =\n",
              "          await google.colab.kernel.invokeFunction('convertToInteractive',\n",
              "                                                    [key], {});\n",
              "        if (!dataTable) return;\n",
              "\n",
              "        const docLinkHtml = 'Like what you see? Visit the ' +\n",
              "          '<a target=\"_blank\" href=https://colab.research.google.com/notebooks/data_table.ipynb>data table notebook</a>'\n",
              "          + ' to learn more about interactive tables.';\n",
              "        element.innerHTML = '';\n",
              "        dataTable['output_type'] = 'display_data';\n",
              "        await google.colab.output.renderOutput(dataTable, element);\n",
              "        const docLink = document.createElement('div');\n",
              "        docLink.innerHTML = docLinkHtml;\n",
              "        element.appendChild(docLink);\n",
              "      }\n",
              "    </script>\n",
              "  </div>\n",
              "\n",
              "\n",
              "<div id=\"df-7b33d53e-21a5-429a-959f-f89ffc92ce2f\">\n",
              "  <button class=\"colab-df-quickchart\" onclick=\"quickchart('df-7b33d53e-21a5-429a-959f-f89ffc92ce2f')\"\n",
              "            title=\"Suggest charts\"\n",
              "            style=\"display:none;\">\n",
              "\n",
              "<svg xmlns=\"http://www.w3.org/2000/svg\" height=\"24px\"viewBox=\"0 0 24 24\"\n",
              "     width=\"24px\">\n",
              "    <g>\n",
              "        <path d=\"M19 3H5c-1.1 0-2 .9-2 2v14c0 1.1.9 2 2 2h14c1.1 0 2-.9 2-2V5c0-1.1-.9-2-2-2zM9 17H7v-7h2v7zm4 0h-2V7h2v10zm4 0h-2v-4h2v4z\"/>\n",
              "    </g>\n",
              "</svg>\n",
              "  </button>\n",
              "\n",
              "<style>\n",
              "  .colab-df-quickchart {\n",
              "      --bg-color: #E8F0FE;\n",
              "      --fill-color: #1967D2;\n",
              "      --hover-bg-color: #E2EBFA;\n",
              "      --hover-fill-color: #174EA6;\n",
              "      --disabled-fill-color: #AAA;\n",
              "      --disabled-bg-color: #DDD;\n",
              "  }\n",
              "\n",
              "  [theme=dark] .colab-df-quickchart {\n",
              "      --bg-color: #3B4455;\n",
              "      --fill-color: #D2E3FC;\n",
              "      --hover-bg-color: #434B5C;\n",
              "      --hover-fill-color: #FFFFFF;\n",
              "      --disabled-bg-color: #3B4455;\n",
              "      --disabled-fill-color: #666;\n",
              "  }\n",
              "\n",
              "  .colab-df-quickchart {\n",
              "    background-color: var(--bg-color);\n",
              "    border: none;\n",
              "    border-radius: 50%;\n",
              "    cursor: pointer;\n",
              "    display: none;\n",
              "    fill: var(--fill-color);\n",
              "    height: 32px;\n",
              "    padding: 0;\n",
              "    width: 32px;\n",
              "  }\n",
              "\n",
              "  .colab-df-quickchart:hover {\n",
              "    background-color: var(--hover-bg-color);\n",
              "    box-shadow: 0 1px 2px rgba(60, 64, 67, 0.3), 0 1px 3px 1px rgba(60, 64, 67, 0.15);\n",
              "    fill: var(--button-hover-fill-color);\n",
              "  }\n",
              "\n",
              "  .colab-df-quickchart-complete:disabled,\n",
              "  .colab-df-quickchart-complete:disabled:hover {\n",
              "    background-color: var(--disabled-bg-color);\n",
              "    fill: var(--disabled-fill-color);\n",
              "    box-shadow: none;\n",
              "  }\n",
              "\n",
              "  .colab-df-spinner {\n",
              "    border: 2px solid var(--fill-color);\n",
              "    border-color: transparent;\n",
              "    border-bottom-color: var(--fill-color);\n",
              "    animation:\n",
              "      spin 1s steps(1) infinite;\n",
              "  }\n",
              "\n",
              "  @keyframes spin {\n",
              "    0% {\n",
              "      border-color: transparent;\n",
              "      border-bottom-color: var(--fill-color);\n",
              "      border-left-color: var(--fill-color);\n",
              "    }\n",
              "    20% {\n",
              "      border-color: transparent;\n",
              "      border-left-color: var(--fill-color);\n",
              "      border-top-color: var(--fill-color);\n",
              "    }\n",
              "    30% {\n",
              "      border-color: transparent;\n",
              "      border-left-color: var(--fill-color);\n",
              "      border-top-color: var(--fill-color);\n",
              "      border-right-color: var(--fill-color);\n",
              "    }\n",
              "    40% {\n",
              "      border-color: transparent;\n",
              "      border-right-color: var(--fill-color);\n",
              "      border-top-color: var(--fill-color);\n",
              "    }\n",
              "    60% {\n",
              "      border-color: transparent;\n",
              "      border-right-color: var(--fill-color);\n",
              "    }\n",
              "    80% {\n",
              "      border-color: transparent;\n",
              "      border-right-color: var(--fill-color);\n",
              "      border-bottom-color: var(--fill-color);\n",
              "    }\n",
              "    90% {\n",
              "      border-color: transparent;\n",
              "      border-bottom-color: var(--fill-color);\n",
              "    }\n",
              "  }\n",
              "</style>\n",
              "\n",
              "  <script>\n",
              "    async function quickchart(key) {\n",
              "      const quickchartButtonEl =\n",
              "        document.querySelector('#' + key + ' button');\n",
              "      quickchartButtonEl.disabled = true;  // To prevent multiple clicks.\n",
              "      quickchartButtonEl.classList.add('colab-df-spinner');\n",
              "      try {\n",
              "        const charts = await google.colab.kernel.invokeFunction(\n",
              "            'suggestCharts', [key], {});\n",
              "      } catch (error) {\n",
              "        console.error('Error during call to suggestCharts:', error);\n",
              "      }\n",
              "      quickchartButtonEl.classList.remove('colab-df-spinner');\n",
              "      quickchartButtonEl.classList.add('colab-df-quickchart-complete');\n",
              "    }\n",
              "    (() => {\n",
              "      let quickchartButtonEl =\n",
              "        document.querySelector('#df-7b33d53e-21a5-429a-959f-f89ffc92ce2f button');\n",
              "      quickchartButtonEl.style.display =\n",
              "        google.colab.kernel.accessAllowed ? 'block' : 'none';\n",
              "    })();\n",
              "  </script>\n",
              "</div>\n",
              "    </div>\n",
              "  </div>\n"
            ],
            "application/vnd.google.colaboratory.intrinsic+json": {
              "type": "dataframe",
              "summary": "{\n  \"name\": \"real_estate\",\n  \"rows\": 8,\n  \"fields\": [\n    {\n      \"column\": \"price\",\n      \"properties\": {\n        \"dtype\": \"number\",\n        \"std\": 157085.39764811922,\n        \"min\": 100.0,\n        \"max\": 500681.128,\n        \"num_unique_values\": 8,\n        \"samples\": [\n          292289.47015999997,\n          280590.716,\n          100.0\n        ],\n        \"semantic_type\": \"\",\n        \"description\": \"\"\n      }\n    },\n    {\n      \"column\": \"size\",\n      \"properties\": {\n        \"dtype\": \"number\",\n        \"std\": 533.9795612942418,\n        \"min\": 100.0,\n        \"max\": 1842.51,\n        \"num_unique_values\": 8,\n        \"samples\": [\n          853.0241999999998,\n          696.405,\n          100.0\n        ],\n        \"semantic_type\": \"\",\n        \"description\": \"\"\n      }\n    },\n    {\n      \"column\": \"year\",\n      \"properties\": {\n        \"dtype\": \"number\",\n        \"std\": 908.0106096329433,\n        \"min\": 4.729020655869073,\n        \"max\": 2018.0,\n        \"num_unique_values\": 7,\n        \"samples\": [\n          100.0,\n          2012.6,\n          2015.0\n        ],\n        \"semantic_type\": \"\",\n        \"description\": \"\"\n      }\n    }\n  ]\n}"
            }
          },
          "metadata": {},
          "execution_count": 7
        }
      ]
    },
    {
      "cell_type": "code",
      "source": [
        "real_estate.dtypes"
      ],
      "metadata": {
        "colab": {
          "base_uri": "https://localhost:8080/"
        },
        "id": "YZJI6I1gFyKN",
        "outputId": "66999a91-e24f-4598-af18-c53feb37acc0"
      },
      "execution_count": null,
      "outputs": [
        {
          "output_type": "execute_result",
          "data": {
            "text/plain": [
              "price    float64\n",
              "size     float64\n",
              "year       int64\n",
              "dtype: object"
            ]
          },
          "metadata": {},
          "execution_count": 8
        }
      ]
    },
    {
      "cell_type": "code",
      "source": [
        "real_estate.corr(method=\"pearson\")"
      ],
      "metadata": {
        "colab": {
          "base_uri": "https://localhost:8080/",
          "height": 143
        },
        "id": "z3Oj5G7cF4dG",
        "outputId": "d1b83280-2e08-4c72-8858-b0cf0791914d"
      },
      "execution_count": null,
      "outputs": [
        {
          "output_type": "execute_result",
          "data": {
            "text/plain": [
              "          price      size      year\n",
              "price  1.000000  0.862983  0.093014\n",
              "size   0.862983  1.000000 -0.097678\n",
              "year   0.093014 -0.097678  1.000000"
            ],
            "text/html": [
              "\n",
              "  <div id=\"df-baf11fa7-be6a-4182-80ca-97ec222b763a\" class=\"colab-df-container\">\n",
              "    <div>\n",
              "<style scoped>\n",
              "    .dataframe tbody tr th:only-of-type {\n",
              "        vertical-align: middle;\n",
              "    }\n",
              "\n",
              "    .dataframe tbody tr th {\n",
              "        vertical-align: top;\n",
              "    }\n",
              "\n",
              "    .dataframe thead th {\n",
              "        text-align: right;\n",
              "    }\n",
              "</style>\n",
              "<table border=\"1\" class=\"dataframe\">\n",
              "  <thead>\n",
              "    <tr style=\"text-align: right;\">\n",
              "      <th></th>\n",
              "      <th>price</th>\n",
              "      <th>size</th>\n",
              "      <th>year</th>\n",
              "    </tr>\n",
              "  </thead>\n",
              "  <tbody>\n",
              "    <tr>\n",
              "      <th>price</th>\n",
              "      <td>1.000000</td>\n",
              "      <td>0.862983</td>\n",
              "      <td>0.093014</td>\n",
              "    </tr>\n",
              "    <tr>\n",
              "      <th>size</th>\n",
              "      <td>0.862983</td>\n",
              "      <td>1.000000</td>\n",
              "      <td>-0.097678</td>\n",
              "    </tr>\n",
              "    <tr>\n",
              "      <th>year</th>\n",
              "      <td>0.093014</td>\n",
              "      <td>-0.097678</td>\n",
              "      <td>1.000000</td>\n",
              "    </tr>\n",
              "  </tbody>\n",
              "</table>\n",
              "</div>\n",
              "    <div class=\"colab-df-buttons\">\n",
              "\n",
              "  <div class=\"colab-df-container\">\n",
              "    <button class=\"colab-df-convert\" onclick=\"convertToInteractive('df-baf11fa7-be6a-4182-80ca-97ec222b763a')\"\n",
              "            title=\"Convert this dataframe to an interactive table.\"\n",
              "            style=\"display:none;\">\n",
              "\n",
              "  <svg xmlns=\"http://www.w3.org/2000/svg\" height=\"24px\" viewBox=\"0 -960 960 960\">\n",
              "    <path d=\"M120-120v-720h720v720H120Zm60-500h600v-160H180v160Zm220 220h160v-160H400v160Zm0 220h160v-160H400v160ZM180-400h160v-160H180v160Zm440 0h160v-160H620v160ZM180-180h160v-160H180v160Zm440 0h160v-160H620v160Z\"/>\n",
              "  </svg>\n",
              "    </button>\n",
              "\n",
              "  <style>\n",
              "    .colab-df-container {\n",
              "      display:flex;\n",
              "      gap: 12px;\n",
              "    }\n",
              "\n",
              "    .colab-df-convert {\n",
              "      background-color: #E8F0FE;\n",
              "      border: none;\n",
              "      border-radius: 50%;\n",
              "      cursor: pointer;\n",
              "      display: none;\n",
              "      fill: #1967D2;\n",
              "      height: 32px;\n",
              "      padding: 0 0 0 0;\n",
              "      width: 32px;\n",
              "    }\n",
              "\n",
              "    .colab-df-convert:hover {\n",
              "      background-color: #E2EBFA;\n",
              "      box-shadow: 0px 1px 2px rgba(60, 64, 67, 0.3), 0px 1px 3px 1px rgba(60, 64, 67, 0.15);\n",
              "      fill: #174EA6;\n",
              "    }\n",
              "\n",
              "    .colab-df-buttons div {\n",
              "      margin-bottom: 4px;\n",
              "    }\n",
              "\n",
              "    [theme=dark] .colab-df-convert {\n",
              "      background-color: #3B4455;\n",
              "      fill: #D2E3FC;\n",
              "    }\n",
              "\n",
              "    [theme=dark] .colab-df-convert:hover {\n",
              "      background-color: #434B5C;\n",
              "      box-shadow: 0px 1px 3px 1px rgba(0, 0, 0, 0.15);\n",
              "      filter: drop-shadow(0px 1px 2px rgba(0, 0, 0, 0.3));\n",
              "      fill: #FFFFFF;\n",
              "    }\n",
              "  </style>\n",
              "\n",
              "    <script>\n",
              "      const buttonEl =\n",
              "        document.querySelector('#df-baf11fa7-be6a-4182-80ca-97ec222b763a button.colab-df-convert');\n",
              "      buttonEl.style.display =\n",
              "        google.colab.kernel.accessAllowed ? 'block' : 'none';\n",
              "\n",
              "      async function convertToInteractive(key) {\n",
              "        const element = document.querySelector('#df-baf11fa7-be6a-4182-80ca-97ec222b763a');\n",
              "        const dataTable =\n",
              "          await google.colab.kernel.invokeFunction('convertToInteractive',\n",
              "                                                    [key], {});\n",
              "        if (!dataTable) return;\n",
              "\n",
              "        const docLinkHtml = 'Like what you see? Visit the ' +\n",
              "          '<a target=\"_blank\" href=https://colab.research.google.com/notebooks/data_table.ipynb>data table notebook</a>'\n",
              "          + ' to learn more about interactive tables.';\n",
              "        element.innerHTML = '';\n",
              "        dataTable['output_type'] = 'display_data';\n",
              "        await google.colab.output.renderOutput(dataTable, element);\n",
              "        const docLink = document.createElement('div');\n",
              "        docLink.innerHTML = docLinkHtml;\n",
              "        element.appendChild(docLink);\n",
              "      }\n",
              "    </script>\n",
              "  </div>\n",
              "\n",
              "\n",
              "<div id=\"df-6f38454d-1421-40be-afa3-dc770767d796\">\n",
              "  <button class=\"colab-df-quickchart\" onclick=\"quickchart('df-6f38454d-1421-40be-afa3-dc770767d796')\"\n",
              "            title=\"Suggest charts\"\n",
              "            style=\"display:none;\">\n",
              "\n",
              "<svg xmlns=\"http://www.w3.org/2000/svg\" height=\"24px\"viewBox=\"0 0 24 24\"\n",
              "     width=\"24px\">\n",
              "    <g>\n",
              "        <path d=\"M19 3H5c-1.1 0-2 .9-2 2v14c0 1.1.9 2 2 2h14c1.1 0 2-.9 2-2V5c0-1.1-.9-2-2-2zM9 17H7v-7h2v7zm4 0h-2V7h2v10zm4 0h-2v-4h2v4z\"/>\n",
              "    </g>\n",
              "</svg>\n",
              "  </button>\n",
              "\n",
              "<style>\n",
              "  .colab-df-quickchart {\n",
              "      --bg-color: #E8F0FE;\n",
              "      --fill-color: #1967D2;\n",
              "      --hover-bg-color: #E2EBFA;\n",
              "      --hover-fill-color: #174EA6;\n",
              "      --disabled-fill-color: #AAA;\n",
              "      --disabled-bg-color: #DDD;\n",
              "  }\n",
              "\n",
              "  [theme=dark] .colab-df-quickchart {\n",
              "      --bg-color: #3B4455;\n",
              "      --fill-color: #D2E3FC;\n",
              "      --hover-bg-color: #434B5C;\n",
              "      --hover-fill-color: #FFFFFF;\n",
              "      --disabled-bg-color: #3B4455;\n",
              "      --disabled-fill-color: #666;\n",
              "  }\n",
              "\n",
              "  .colab-df-quickchart {\n",
              "    background-color: var(--bg-color);\n",
              "    border: none;\n",
              "    border-radius: 50%;\n",
              "    cursor: pointer;\n",
              "    display: none;\n",
              "    fill: var(--fill-color);\n",
              "    height: 32px;\n",
              "    padding: 0;\n",
              "    width: 32px;\n",
              "  }\n",
              "\n",
              "  .colab-df-quickchart:hover {\n",
              "    background-color: var(--hover-bg-color);\n",
              "    box-shadow: 0 1px 2px rgba(60, 64, 67, 0.3), 0 1px 3px 1px rgba(60, 64, 67, 0.15);\n",
              "    fill: var(--button-hover-fill-color);\n",
              "  }\n",
              "\n",
              "  .colab-df-quickchart-complete:disabled,\n",
              "  .colab-df-quickchart-complete:disabled:hover {\n",
              "    background-color: var(--disabled-bg-color);\n",
              "    fill: var(--disabled-fill-color);\n",
              "    box-shadow: none;\n",
              "  }\n",
              "\n",
              "  .colab-df-spinner {\n",
              "    border: 2px solid var(--fill-color);\n",
              "    border-color: transparent;\n",
              "    border-bottom-color: var(--fill-color);\n",
              "    animation:\n",
              "      spin 1s steps(1) infinite;\n",
              "  }\n",
              "\n",
              "  @keyframes spin {\n",
              "    0% {\n",
              "      border-color: transparent;\n",
              "      border-bottom-color: var(--fill-color);\n",
              "      border-left-color: var(--fill-color);\n",
              "    }\n",
              "    20% {\n",
              "      border-color: transparent;\n",
              "      border-left-color: var(--fill-color);\n",
              "      border-top-color: var(--fill-color);\n",
              "    }\n",
              "    30% {\n",
              "      border-color: transparent;\n",
              "      border-left-color: var(--fill-color);\n",
              "      border-top-color: var(--fill-color);\n",
              "      border-right-color: var(--fill-color);\n",
              "    }\n",
              "    40% {\n",
              "      border-color: transparent;\n",
              "      border-right-color: var(--fill-color);\n",
              "      border-top-color: var(--fill-color);\n",
              "    }\n",
              "    60% {\n",
              "      border-color: transparent;\n",
              "      border-right-color: var(--fill-color);\n",
              "    }\n",
              "    80% {\n",
              "      border-color: transparent;\n",
              "      border-right-color: var(--fill-color);\n",
              "      border-bottom-color: var(--fill-color);\n",
              "    }\n",
              "    90% {\n",
              "      border-color: transparent;\n",
              "      border-bottom-color: var(--fill-color);\n",
              "    }\n",
              "  }\n",
              "</style>\n",
              "\n",
              "  <script>\n",
              "    async function quickchart(key) {\n",
              "      const quickchartButtonEl =\n",
              "        document.querySelector('#' + key + ' button');\n",
              "      quickchartButtonEl.disabled = true;  // To prevent multiple clicks.\n",
              "      quickchartButtonEl.classList.add('colab-df-spinner');\n",
              "      try {\n",
              "        const charts = await google.colab.kernel.invokeFunction(\n",
              "            'suggestCharts', [key], {});\n",
              "      } catch (error) {\n",
              "        console.error('Error during call to suggestCharts:', error);\n",
              "      }\n",
              "      quickchartButtonEl.classList.remove('colab-df-spinner');\n",
              "      quickchartButtonEl.classList.add('colab-df-quickchart-complete');\n",
              "    }\n",
              "    (() => {\n",
              "      let quickchartButtonEl =\n",
              "        document.querySelector('#df-6f38454d-1421-40be-afa3-dc770767d796 button');\n",
              "      quickchartButtonEl.style.display =\n",
              "        google.colab.kernel.accessAllowed ? 'block' : 'none';\n",
              "    })();\n",
              "  </script>\n",
              "</div>\n",
              "    </div>\n",
              "  </div>\n"
            ],
            "application/vnd.google.colaboratory.intrinsic+json": {
              "type": "dataframe",
              "summary": "{\n  \"name\": \"real_estate\",\n  \"rows\": 3,\n  \"fields\": [\n    {\n      \"column\": \"price\",\n      \"properties\": {\n        \"dtype\": \"number\",\n        \"std\": 0.4889186907009959,\n        \"min\": 0.0930140777527098,\n        \"max\": 1.0,\n        \"num_unique_values\": 3,\n        \"samples\": [\n          1.0,\n          0.8629827267012693,\n          0.0930140777527098\n        ],\n        \"semantic_type\": \"\",\n        \"description\": \"\"\n      }\n    },\n    {\n      \"column\": \"size\",\n      \"properties\": {\n        \"dtype\": \"number\",\n        \"std\": 0.5981276619402721,\n        \"min\": -0.09767810765389581,\n        \"max\": 1.0,\n        \"num_unique_values\": 3,\n        \"samples\": [\n          0.8629827267012693,\n          1.0,\n          -0.09767810765389581\n        ],\n        \"semantic_type\": \"\",\n        \"description\": \"\"\n      }\n    },\n    {\n      \"column\": \"year\",\n      \"properties\": {\n        \"dtype\": \"number\",\n        \"std\": 0.5864986787073142,\n        \"min\": -0.09767810765389581,\n        \"max\": 1.0,\n        \"num_unique_values\": 3,\n        \"samples\": [\n          0.0930140777527098,\n          -0.09767810765389581,\n          1.0\n        ],\n        \"semantic_type\": \"\",\n        \"description\": \"\"\n      }\n    }\n  ]\n}"
            }
          },
          "metadata": {},
          "execution_count": 9
        }
      ]
    },
    {
      "cell_type": "code",
      "source": [
        "y = real_estate ['price']\n",
        "x1 = real_estate ['size']"
      ],
      "metadata": {
        "id": "1RBwc79fIlPW"
      },
      "execution_count": null,
      "outputs": []
    },
    {
      "cell_type": "code",
      "source": [
        "import matplotlib.pyplot as plt"
      ],
      "metadata": {
        "id": "JYcc8755JHtW"
      },
      "execution_count": null,
      "outputs": []
    },
    {
      "cell_type": "code",
      "source": [
        "plt.scatter(x1,y)\n",
        "plt.xlabel('size', fontsize = 20)\n",
        "plt.ylabel('price', fontsize = 20)\n",
        "# Show the plot\n",
        "plt.show()"
      ],
      "metadata": {
        "colab": {
          "base_uri": "https://localhost:8080/",
          "height": 463
        },
        "id": "3GZWi_dtJSn3",
        "outputId": "08309fbe-bcd9-4601-cb80-7740e83e807c"
      },
      "execution_count": null,
      "outputs": [
        {
          "output_type": "display_data",
          "data": {
            "text/plain": [
              "<Figure size 640x480 with 1 Axes>"
            ],
            "image/png": "[encoded data removed]"
          },
          "metadata": {}
        }
      ]
    },
    {
      "cell_type": "code",
      "source": [
        "x_matrix = x1.values.reshape(-1,1)"
      ],
      "metadata": {
        "id": "Pkl1LVu_JugW"
      },
      "execution_count": null,
      "outputs": []
    },
    {
      "cell_type": "code",
      "source": [
        "from sklearn.linear_model import LinearRegression"
      ],
      "metadata": {
        "id": "98bo8E5LKbWH"
      },
      "execution_count": null,
      "outputs": []
    },
    {
      "cell_type": "code",
      "source": [
        "reg = LinearRegression()\n",
        "reg.fit(x_matrix,y)"
      ],
      "metadata": {
        "colab": {
          "base_uri": "https://localhost:8080/",
          "height": 74
        },
        "id": "3PMuQ-JIJ0Mm",
        "outputId": "706098fb-1da6-4f7d-b293-d34199d854fc"
      },
      "execution_count": null,
      "outputs": [
        {
          "output_type": "execute_result",
          "data": {
            "text/plain": [
              "LinearRegression()"
            ],
            "text/html": [
              "<style>#sk-container-id-1 {color: black;background-color: white;}#sk-container-id-1 pre{padding: 0;}#sk-container-id-1 div.sk-toggleable {background-color: white;}#sk-container-id-1 label.sk-toggleable__label {cursor: pointer;display: block;width: 100%;margin-bottom: 0;padding: 0.3em;box-sizing: border-box;text-align: center;}#sk-container-id-1 label.sk-toggleable__label-arrow:before {content: \"▸\";float: left;margin-right: 0.25em;color: #696969;}#sk-container-id-1 label.sk-toggleable__label-arrow:hover:before {color: black;}#sk-container-id-1 div.sk-estimator:hover label.sk-toggleable__label-arrow:before {color: black;}#sk-container-id-1 div.sk-toggleable__content {max-height: 0;max-width: 0;overflow: hidden;text-align: left;background-color: #f0f8ff;}#sk-container-id-1 div.sk-toggleable__content pre {margin: 0.2em;color: black;border-radius: 0.25em;background-color: #f0f8ff;}#sk-container-id-1 input.sk-toggleable__control:checked~div.sk-toggleable__content {max-height: 200px;max-width: 100%;overflow: auto;}#sk-container-id-1 input.sk-toggleable__control:checked~label.sk-toggleable__label-arrow:before {content: \"▾\";}#sk-container-id-1 div.sk-estimator input.sk-toggleable__control:checked~label.sk-toggleable__label {background-color: #d4ebff;}#sk-container-id-1 div.sk-label input.sk-toggleable__control:checked~label.sk-toggleable__label {background-color: #d4ebff;}#sk-container-id-1 input.sk-hidden--visually {border: 0;clip: rect(1px 1px 1px 1px);clip: rect(1px, 1px, 1px, 1px);height: 1px;margin: -1px;overflow: hidden;padding: 0;position: absolute;width: 1px;}#sk-container-id-1 div.sk-estimator {font-family: monospace;background-color: #f0f8ff;border: 1px dotted black;border-radius: 0.25em;box-sizing: border-box;margin-bottom: 0.5em;}#sk-container-id-1 div.sk-estimator:hover {background-color: #d4ebff;}#sk-container-id-1 div.sk-parallel-item::after {content: \"\";width: 100%;border-bottom: 1px solid gray;flex-grow: 1;}#sk-container-id-1 div.sk-label:hover label.sk-toggleable__label {background-color: #d4ebff;}#sk-container-id-1 div.sk-serial::before {content: \"\";position: absolute;border-left: 1px solid gray;box-sizing: border-box;top: 0;bottom: 0;left: 50%;z-index: 0;}#sk-container-id-1 div.sk-serial {display: flex;flex-direction: column;align-items: center;background-color: white;padding-right: 0.2em;padding-left: 0.2em;position: relative;}#sk-container-id-1 div.sk-item {position: relative;z-index: 1;}#sk-container-id-1 div.sk-parallel {display: flex;align-items: stretch;justify-content: center;background-color: white;position: relative;}#sk-container-id-1 div.sk-item::before, #sk-container-id-1 div.sk-parallel-item::before {content: \"\";position: absolute;border-left: 1px solid gray;box-sizing: border-box;top: 0;bottom: 0;left: 50%;z-index: -1;}#sk-container-id-1 div.sk-parallel-item {display: flex;flex-direction: column;z-index: 1;position: relative;background-color: white;}#sk-container-id-1 div.sk-parallel-item:first-child::after {align-self: flex-end;width: 50%;}#sk-container-id-1 div.sk-parallel-item:last-child::after {align-self: flex-start;width: 50%;}#sk-container-id-1 div.sk-parallel-item:only-child::after {width: 0;}#sk-container-id-1 div.sk-dashed-wrapped {border: 1px dashed gray;margin: 0 0.4em 0.5em 0.4em;box-sizing: border-box;padding-bottom: 0.4em;background-color: white;}#sk-container-id-1 div.sk-label label {font-family: monospace;font-weight: bold;display: inline-block;line-height: 1.2em;}#sk-container-id-1 div.sk-label-container {text-align: center;}#sk-container-id-1 div.sk-container {/* jupyter's `normalize.less` sets `[hidden] { display: none; }` but bootstrap.min.css set `[hidden] { display: none !important; }` so we also need the `!important` here to be able to override the default hidden behavior on the sphinx rendered scikit-learn.org. See: https://github.com/scikit-learn/scikit-learn/issues/21755 */display: inline-block !important;position: relative;}#sk-container-id-1 div.sk-text-repr-fallback {display: none;}</style><div id=\"sk-container-id-1\" class=\"sk-top-container\"><div class=\"sk-text-repr-fallback\"><pre>LinearRegression()</pre><b>In a Jupyter environment, please rerun this cell to show the HTML representation or trust the notebook. <br />On GitHub, the HTML representation is unable to render, please try loading this page with nbviewer.org.</b></div><div class=\"sk-container\" hidden><div class=\"sk-item\"><div class=\"sk-estimator sk-toggleable\"><input class=\"sk-toggleable__control sk-hidden--visually\" id=\"sk-estimator-id-1\" type=\"checkbox\" checked><label for=\"sk-estimator-id-1\" class=\"sk-toggleable__label sk-toggleable__label-arrow\">LinearRegression</label><div class=\"sk-toggleable__content\"><pre>LinearRegression()</pre></div></div></div></div></div>"
            ]
          },
          "metadata": {},
          "execution_count": 16
        }
      ]
    },
    {
      "cell_type": "code",
      "source": [
        "reg.score(x_matrix,y)\n",
        "\n",
        "reg.intercept_"
      ],
      "metadata": {
        "colab": {
          "base_uri": "https://localhost:8080/"
        },
        "id": "Fdk_tpT7KDWG",
        "outputId": "e304b5ac-4b92-44be-a9ed-af2d48ae237b"
      },
      "execution_count": null,
      "outputs": [
        {
          "output_type": "execute_result",
          "data": {
            "text/plain": [
              "101912.60180122897"
            ]
          },
          "metadata": {},
          "execution_count": 17
        }
      ]
    },
    {
      "cell_type": "code",
      "source": [
        "reg.coef_"
      ],
      "metadata": {
        "colab": {
          "base_uri": "https://localhost:8080/"
        },
        "id": "fF6GGe1xKUGP",
        "outputId": "b662edbe-5aff-46c4-b241-69df7a907d7e"
      },
      "execution_count": null,
      "outputs": [
        {
          "output_type": "execute_result",
          "data": {
            "text/plain": [
              "array([223.17874259])"
            ]
          },
          "metadata": {},
          "execution_count": 18
        }
      ]
    },
    {
      "cell_type": "code",
      "source": [
        "reg.predict([[750]])"
      ],
      "metadata": {
        "colab": {
          "base_uri": "https://localhost:8080/"
        },
        "id": "0x9GtilqPIyT",
        "outputId": "fbeb6b64-ec10-417a-941e-a71b3caa2493"
      },
      "execution_count": null,
      "outputs": [
        {
          "output_type": "execute_result",
          "data": {
            "text/plain": [
              "array([269296.65874718])"
            ]
          },
          "metadata": {},
          "execution_count": 19
        }
      ]
    },
    {
      "cell_type": "code",
      "source": [
        "import statsmodels.api as sm"
      ],
      "metadata": {
        "id": "9I1WWIKSNQWo"
      },
      "execution_count": null,
      "outputs": []
    },
    {
      "cell_type": "code",
      "source": [
        "m, b = np.polyfit (x1,y,1 )\n",
        "print ('The slope of line is {:.2f}.' .format (m))\n",
        "print ('The y-intercept is {:.2f}.' .format (b))\n",
        "print ('The best fit simple linear regression line is {:.2f}x + {:.2f}.' .format (m,b))\n"
      ],
      "metadata": {
        "colab": {
          "base_uri": "https://localhost:8080/"
        },
        "id": "Yvn7zrnrNZIX",
        "outputId": "5fb9ad20-3146-472c-c431-cf29a2bbd53b"
      },
      "execution_count": null,
      "outputs": [
        {
          "output_type": "stream",
          "name": "stdout",
          "text": [
            "The slope of line is 223.18.\n",
            "The y-intercept is 101912.60.\n",
            "The best fit simple linear regression line is 223.18x + 101912.60.\n"
          ]
        }
      ]
    },
    {
      "cell_type": "code",
      "source": [
        "def predict(query):\n",
        "  if query >= 1:\n",
        "    predict = m * query + b\n",
        "    return predict\n",
        "  else:\n",
        "    print (\"You must have a size.\")"
      ],
      "metadata": {
        "id": "kaw09yAIOkgQ"
      },
      "execution_count": null,
      "outputs": []
    },
    {
      "cell_type": "code",
      "source": [
        "predict (750)"
      ],
      "metadata": {
        "id": "H0UoQxwrP3eI",
        "outputId": "6a084dec-30bc-447e-e352-04829ec54a65",
        "colab": {
          "base_uri": "https://localhost:8080/"
        }
      },
      "execution_count": null,
      "outputs": [
        {
          "output_type": "execute_result",
          "data": {
            "text/plain": [
              "269296.6587471847"
            ]
          },
          "metadata": {},
          "execution_count": 23
        }
      ]
    },
    {
      "cell_type": "markdown",
      "source": [
        "**MULTIPLE LINEAR REGRESSION**"
      ],
      "metadata": {
        "id": "-SdRJWcxpsMY"
      }
    },
    {
      "cell_type": "code",
      "source": [
        "import pandas as pd\n",
        "import matplotlib.pyplot as plt\n",
        "from sklearn.linear_model import LinearRegression\n",
        "\n",
        "real_estate_df = pd.read_csv('/content/sample_data/real_estate_price_size_year.csv')\n",
        "\n",
        "X = real_estate_df[['size']]\n",
        "y = real_estate_df['price']\n",
        "\n",
        "model = LinearRegression()\n",
        "model.fit(X, y)\n",
        "\n",
        "predictions = model.predict(X)\n",
        "\n",
        "plt.scatter(X, y)\n",
        "plt.xlabel('size', fontsize=20)\n",
        "plt.ylabel('price', fontsize=20)\n",
        "\n",
        "plt.plot(X, predictions, color='red', linewidth=2)\n",
        "\n",
        "# Show the plot\n",
        "plt.show()"
      ],
      "metadata": {
        "colab": {
          "base_uri": "https://localhost:8080/",
          "height": 463
        },
        "id": "VfVyVSwVpv83",
        "outputId": "dce08f39-4431-4e13-8940-a2c6c2d03fc8"
      },
      "execution_count": null,
      "outputs": [
        {
          "output_type": "display_data",
          "data": {
            "text/plain": [
              "<Figure size 640x480 with 1 Axes>"
            ],
            "image/png": "[encoded data removed]"
          },
          "metadata": {}
        }
      ]
    },
    {
      "cell_type": "markdown",
      "source": [
        "**POLYNOMIAL LINEAR REGRESSION**"
      ],
      "metadata": {
        "id": "9_P8waBGp0C9"
      }
    },
    {
      "cell_type": "code",
      "source": [
        "import pandas as pd\n",
        "import numpy as np\n",
        "import matplotlib.pyplot as plt\n",
        "from sklearn.preprocessing import PolynomialFeatures\n",
        "from sklearn.linear_model import LinearRegression\n",
        "\n",
        "real_estate_df = pd.read_csv('/content/sample_data/real_estate_price_size_year.csv')\n",
        "\n",
        "X = real_estate_df[['size']]\n",
        "y = real_estate_df['price']\n",
        "\n",
        "poly_features = PolynomialFeatures(degree=2)\n",
        "X_poly = poly_features.fit_transform(X)\n",
        "\n",
        "poly_model = LinearRegression()\n",
        "poly_model.fit(X_poly, y)\n",
        "\n",
        "predictions = poly_model.predict(X_poly)\n",
        "\n",
        "sorted_zip = sorted(zip(X.values, predictions))\n",
        "X_sorted, predictions_sorted = zip(*sorted_zip)\n",
        "\n",
        "plt.scatter(X, y)\n",
        "plt.xlabel('size', fontsize=20)\n",
        "plt.ylabel('price', fontsize=20)\n",
        "plt.plot(X_sorted, predictions_sorted, color='red', linewidth=2)\n",
        "plt.show()"
      ],
      "metadata": {
        "colab": {
          "base_uri": "https://localhost:8080/",
          "height": 463
        },
        "id": "3zJV_KUMqeFu",
        "outputId": "18db9a5c-9b2c-4e5d-8138-5e793268aeaf"
      },
      "execution_count": null,
      "outputs": [
        {
          "output_type": "display_data",
          "data": {
            "text/plain": [
              "<Figure size 640x480 with 1 Axes>"
            ],
            "image/png": "[encoded data removed]"
          },
          "metadata": {}
        }
      ]
    },
    {
      "cell_type": "markdown",
      "source": [
        "**Report:**\n",
        "The code utilizes the Linear Regression algorithm to model the relationship between real estate prices and the size and year of the properties. After training the model on the training dataset and making predictions on the test set, it evaluates the model's performance using the mean squared error metric. Additionally, it provides a visual representation of the model's predictions compared to the actual prices through a scatter plot.This code loads a real estate dataset and performs a linear regression analysis to predict house prices based on the size and year features."
      ],
      "metadata": {
        "id": "Z3s9dnRyx1rt"
      }
    },
    {
      "cell_type": "markdown",
      "source": [
        "**LOGISTIC REGRESSION**"
      ],
      "metadata": {
        "id": "7OyCc_xYUM8V"
      }
    },
    {
      "cell_type": "code",
      "source": [
        "import pandas as pd\n",
        "from sklearn.model_selection import train_test_split\n",
        "from sklearn.linear_model import LogisticRegression\n",
        "from sklearn.metrics import accuracy_score, confusion_matrix\n",
        "\n",
        "# Load the dataset\n",
        "real_estate_df = pd.read_csv('/content/sample_data/real_estate_price_size_year.csv')\n",
        "\n",
        "X = real_estate_df[['size', 'year']]\n",
        "y = real_estate_df['price']\n",
        "\n",
        "# Define a threshold for price\n",
        "threshold = 200000  # Example threshold\n",
        "\n",
        "y = (y > threshold).astype(int)\n",
        "\n",
        "# Split the dataset into training and testing sets\n",
        "X_train, X_test, y_train, y_test = train_test_split(X, y, test_size=0.2, random_state=42)\n",
        "\n",
        "# Initialize and train the logistic regression model\n",
        "model = LogisticRegression()\n",
        "model.fit(X_train, y_train)\n",
        "\n",
        "y_pred = model.predict(X_test)\n",
        "\n",
        "accuracy = accuracy_score(y_test, y_pred)\n",
        "conf_matrix = confusion_matrix(y_test, y_pred)\n",
        "\n",
        "print(\"Accuracy:\", accuracy)\n",
        "print(\"Confusion Matrix:\\n\", conf_matrix)\n",
        "\n"
      ],
      "metadata": {
        "colab": {
          "base_uri": "https://localhost:8080/"
        },
        "id": "NM9TD44KnTha",
        "outputId": "8bc3c367-9be8-47a6-c4ac-98ad5228b003"
      },
      "execution_count": null,
      "outputs": [
        {
          "output_type": "stream",
          "name": "stdout",
          "text": [
            "Accuracy: 0.9\n",
            "Confusion Matrix:\n",
            " [[ 0  2]\n",
            " [ 0 18]]\n"
          ]
        }
      ]
    },
    {
      "cell_type": "code",
      "source": [
        "from sklearn.metrics import precision_score, recall_score, f1_score\n",
        "\n",
        "precision = precision_score(y_test, y_pred)\n",
        "recall = recall_score(y_test, y_pred)\n",
        "f1 = f1_score(y_test, y_pred)\n",
        "\n",
        "print(\"Precision:\", precision)\n",
        "print(\"Recall:\", recall)\n",
        "print(\"F1-score:\", f1)"
      ],
      "metadata": {
        "colab": {
          "base_uri": "https://localhost:8080/"
        },
        "id": "EgosPhGKojNp",
        "outputId": "4c4b5847-6c4b-419e-f413-b0b81e32851f"
      },
      "execution_count": null,
      "outputs": [
        {
          "output_type": "stream",
          "name": "stdout",
          "text": [
            "Precision: 0.9\n",
            "Recall: 1.0\n",
            "F1-score: 0.9473684210526316\n"
          ]
        }
      ]
    },
    {
      "cell_type": "code",
      "source": [
        "import pandas as pd\n",
        "from sklearn.model_selection import train_test_split\n",
        "from sklearn.linear_model import LinearRegression\n",
        "from sklearn.metrics import mean_squared_error\n",
        "import matplotlib.pyplot as plt\n",
        "import seaborn as sns\n",
        "\n",
        "# Load the dataset\n",
        "real_estate_df = pd.read_csv('/content/sample_data/real_estate_price_size_year.csv')\n",
        "\n",
        "X = real_estate_df[['size', 'year']]\n",
        "y = real_estate_df['price']\n",
        "X_train, X_test, y_train, y_test = train_test_split(X, y, test_size=0.2, random_state=42)\n",
        "\n",
        "model = LinearRegression()\n",
        "model.fit(X_train, y_train)\n",
        "\n",
        "# Make predictions on the test set\n",
        "y_pred = model.predict(X_test)\n",
        "\n",
        "# Calculate mean squared error\n",
        "mse = mean_squared_error(y_test, y_pred)\n",
        "\n",
        "# Display the results\n",
        "print(\"Mean Squared Error:\", mse)\n",
        "\n",
        "# Plot the actual vs. predicted prices\n",
        "plt.figure(figsize=(8, 6))\n",
        "plt.scatter(y_test, y_pred, color='blue')\n",
        "plt.xlabel('Actual Price')\n",
        "plt.ylabel('Predicted Price')\n",
        "plt.title('Actual vs. Predicted Prices')\n",
        "plt.show()"
      ],
      "metadata": {
        "colab": {
          "base_uri": "https://localhost:8080/",
          "height": 581
        },
        "id": "-mB_87Abs__x",
        "outputId": "801ecec2-3bff-4eca-8ff7-3dc47726b89f"
      },
      "execution_count": null,
      "outputs": [
        {
          "output_type": "stream",
          "name": "stdout",
          "text": [
            "Mean Squared Error: 1399961848.748372\n"
          ]
        },
        {
          "output_type": "display_data",
          "data": {
            "text/plain": [
              "<Figure size 800x600 with 1 Axes>"
            ],
            "image/png": "[encoded data removed]"
          },
          "metadata": {}
        }
      ]
    },
    {
      "cell_type": "markdown",
      "source": [
        "**Report:**\n",
        "- The logistic regression model accurately classified real estate data with an accuracy score of 0.9 , while confusion matrix analysis provided insights into its classification outcomes. Additional metrics like precision, recall, and F1-score were calculated to offer a comprehensive evaluation. The linear regression model predicted real estate prices with a mean squared error (MSE) of 1399961848.748372, and a scatter plot visually displayed the relationship between actual and predicted prices, illustrating the model's predictive performance."
      ],
      "metadata": {
        "id": "gcZXQntcxrG9"
      }
    },
    {
      "cell_type": "markdown",
      "source": [
        "**DECISION TREE**"
      ],
      "metadata": {
        "id": "dY4fcju1bwgE"
      }
    },
    {
      "cell_type": "code",
      "source": [
        "import pandas as pd\n",
        "from sklearn.tree import DecisionTreeClassifier\n",
        "from sklearn.model_selection import train_test_split\n",
        "\n",
        "# Load the dataset\n",
        "real_estate_data = pd.read_csv('/content/sample_data/real_estate_price_size_year.csv')\n",
        "\n",
        "columns = [\"size\", \"year\"]\n",
        "X_input = real_estate_data[list(columns)].values\n",
        "y_target = real_estate_data[\"price\"].values\n",
        "\n",
        "# Convert the continuous target variable 'price' into categories\n",
        "# For example, you can convert 'price' into three categories: low, medium, and high\n",
        "real_estate_data['price_category'] = pd.qcut(real_estate_data['price'], q=3, labels=['low', 'medium', 'high'])\n",
        "\n",
        "\n",
        "y_target = real_estate_data[\"price_category\"]\n",
        "X_train, X_test, y_train, y_test = train_test_split(X_input, y_target, test_size=0.2, random_state=42)\n",
        "\n",
        "# Train the decision tree classifier\n",
        "clf_price = DecisionTreeClassifier(criterion=\"entropy\", max_depth=3)\n",
        "clf_price.fit(X_train, y_train)\n"
      ],
      "metadata": {
        "colab": {
          "base_uri": "https://localhost:8080/",
          "height": 74
        },
        "id": "EhAEbJuNiNSy",
        "outputId": "54b1e321-4cc2-4a01-8618-bb373dcad828"
      },
      "execution_count": null,
      "outputs": [
        {
          "output_type": "execute_result",
          "data": {
            "text/plain": [
              "DecisionTreeClassifier(criterion='entropy', max_depth=3)"
            ],
            "text/html": [
              "<style>#sk-container-id-2 {color: black;background-color: white;}#sk-container-id-2 pre{padding: 0;}#sk-container-id-2 div.sk-toggleable {background-color: white;}#sk-container-id-2 label.sk-toggleable__label {cursor: pointer;display: block;width: 100%;margin-bottom: 0;padding: 0.3em;box-sizing: border-box;text-align: center;}#sk-container-id-2 label.sk-toggleable__label-arrow:before {content: \"▸\";float: left;margin-right: 0.25em;color: #696969;}#sk-container-id-2 label.sk-toggleable__label-arrow:hover:before {color: black;}#sk-container-id-2 div.sk-estimator:hover label.sk-toggleable__label-arrow:before {color: black;}#sk-container-id-2 div.sk-toggleable__content {max-height: 0;max-width: 0;overflow: hidden;text-align: left;background-color: #f0f8ff;}#sk-container-id-2 div.sk-toggleable__content pre {margin: 0.2em;color: black;border-radius: 0.25em;background-color: #f0f8ff;}#sk-container-id-2 input.sk-toggleable__control:checked~div.sk-toggleable__content {max-height: 200px;max-width: 100%;overflow: auto;}#sk-container-id-2 input.sk-toggleable__control:checked~label.sk-toggleable__label-arrow:before {content: \"▾\";}#sk-container-id-2 div.sk-estimator input.sk-toggleable__control:checked~label.sk-toggleable__label {background-color: #d4ebff;}#sk-container-id-2 div.sk-label input.sk-toggleable__control:checked~label.sk-toggleable__label {background-color: #d4ebff;}#sk-container-id-2 input.sk-hidden--visually {border: 0;clip: rect(1px 1px 1px 1px);clip: rect(1px, 1px, 1px, 1px);height: 1px;margin: -1px;overflow: hidden;padding: 0;position: absolute;width: 1px;}#sk-container-id-2 div.sk-estimator {font-family: monospace;background-color: #f0f8ff;border: 1px dotted black;border-radius: 0.25em;box-sizing: border-box;margin-bottom: 0.5em;}#sk-container-id-2 div.sk-estimator:hover {background-color: #d4ebff;}#sk-container-id-2 div.sk-parallel-item::after {content: \"\";width: 100%;border-bottom: 1px solid gray;flex-grow: 1;}#sk-container-id-2 div.sk-label:hover label.sk-toggleable__label {background-color: #d4ebff;}#sk-container-id-2 div.sk-serial::before {content: \"\";position: absolute;border-left: 1px solid gray;box-sizing: border-box;top: 0;bottom: 0;left: 50%;z-index: 0;}#sk-container-id-2 div.sk-serial {display: flex;flex-direction: column;align-items: center;background-color: white;padding-right: 0.2em;padding-left: 0.2em;position: relative;}#sk-container-id-2 div.sk-item {position: relative;z-index: 1;}#sk-container-id-2 div.sk-parallel {display: flex;align-items: stretch;justify-content: center;background-color: white;position: relative;}#sk-container-id-2 div.sk-item::before, #sk-container-id-2 div.sk-parallel-item::before {content: \"\";position: absolute;border-left: 1px solid gray;box-sizing: border-box;top: 0;bottom: 0;left: 50%;z-index: -1;}#sk-container-id-2 div.sk-parallel-item {display: flex;flex-direction: column;z-index: 1;position: relative;background-color: white;}#sk-container-id-2 div.sk-parallel-item:first-child::after {align-self: flex-end;width: 50%;}#sk-container-id-2 div.sk-parallel-item:last-child::after {align-self: flex-start;width: 50%;}#sk-container-id-2 div.sk-parallel-item:only-child::after {width: 0;}#sk-container-id-2 div.sk-dashed-wrapped {border: 1px dashed gray;margin: 0 0.4em 0.5em 0.4em;box-sizing: border-box;padding-bottom: 0.4em;background-color: white;}#sk-container-id-2 div.sk-label label {font-family: monospace;font-weight: bold;display: inline-block;line-height: 1.2em;}#sk-container-id-2 div.sk-label-container {text-align: center;}#sk-container-id-2 div.sk-container {/* jupyter's `normalize.less` sets `[hidden] { display: none; }` but bootstrap.min.css set `[hidden] { display: none !important; }` so we also need the `!important` here to be able to override the default hidden behavior on the sphinx rendered scikit-learn.org. See: https://github.com/scikit-learn/scikit-learn/issues/21755 */display: inline-block !important;position: relative;}#sk-container-id-2 div.sk-text-repr-fallback {display: none;}</style><div id=\"sk-container-id-2\" class=\"sk-top-container\"><div class=\"sk-text-repr-fallback\"><pre>DecisionTreeClassifier(criterion=&#x27;entropy&#x27;, max_depth=3)</pre><b>In a Jupyter environment, please rerun this cell to show the HTML representation or trust the notebook. <br />On GitHub, the HTML representation is unable to render, please try loading this page with nbviewer.org.</b></div><div class=\"sk-container\" hidden><div class=\"sk-item\"><div class=\"sk-estimator sk-toggleable\"><input class=\"sk-toggleable__control sk-hidden--visually\" id=\"sk-estimator-id-2\" type=\"checkbox\" checked><label for=\"sk-estimator-id-2\" class=\"sk-toggleable__label sk-toggleable__label-arrow\">DecisionTreeClassifier</label><div class=\"sk-toggleable__content\"><pre>DecisionTreeClassifier(criterion=&#x27;entropy&#x27;, max_depth=3)</pre></div></div></div></div></div>"
            ]
          },
          "metadata": {},
          "execution_count": 32
        }
      ]
    },
    {
      "cell_type": "code",
      "source": [
        "from sklearn.tree import plot_tree\n",
        "import matplotlib.pyplot as plt\n",
        "\n",
        "# Visualize the decision tree\n",
        "plt.figure(figsize=(10, 6))\n",
        "plot_tree(clf_price, feature_names=columns, class_names=clf_price.classes_, filled=True)\n",
        "plt.show()"
      ],
      "metadata": {
        "colab": {
          "base_uri": "https://localhost:8080/",
          "height": 499
        },
        "id": "yXFqcT37mHIR",
        "outputId": "b406a25e-26a9-4f28-ed85-f8eb41895a52"
      },
      "execution_count": null,
      "outputs": [
        {
          "output_type": "display_data",
          "data": {
            "text/plain": [
              "<Figure size 1000x600 with 1 Axes>"
            ],
            "image/png": "[encoded data removed]"
          },
          "metadata": {}
        }
      ]
    },
    {
      "cell_type": "code",
      "source": [
        "from sklearn.metrics import classification_report\n",
        "\n",
        "y_pred = clf_price.predict(X_test)\n",
        "print(classification_report(y_test, y_pred))\n",
        "\n",
        "#This code will print a classification report, providing metrics such as precision, recall, F1-score,\n",
        "#and support for each class in the target variable. It gives insights into how well the model performs in\n",
        "#predicting the different price categories on the test set."
      ],
      "metadata": {
        "colab": {
          "base_uri": "https://localhost:8080/"
        },
        "id": "ppeI4ILnmVid",
        "outputId": "55ed515d-18ce-4705-c52e-ee56645b2006"
      },
      "execution_count": null,
      "outputs": [
        {
          "output_type": "stream",
          "name": "stdout",
          "text": [
            "              precision    recall  f1-score   support\n",
            "\n",
            "        high       0.50      1.00      0.67         4\n",
            "         low       1.00      0.33      0.50         9\n",
            "      medium       0.33      0.43      0.38         7\n",
            "\n",
            "    accuracy                           0.50        20\n",
            "   macro avg       0.61      0.59      0.51        20\n",
            "weighted avg       0.67      0.50      0.49        20\n",
            "\n"
          ]
        }
      ]
    },
    {
      "cell_type": "code",
      "source": [
        "clf_score = clf_price.score(X_input, y_target)\n",
        "percentage = \"{:.0%}\".format(clf_score)\n",
        "print(percentage)\n"
      ],
      "metadata": {
        "colab": {
          "base_uri": "https://localhost:8080/"
        },
        "id": "7tMYlHsXjzQC",
        "outputId": "4204b72e-38ce-4418-982b-5edbe70cefcb"
      },
      "execution_count": null,
      "outputs": [
        {
          "output_type": "stream",
          "name": "stdout",
          "text": [
            "75%\n"
          ]
        }
      ]
    },
    {
      "cell_type": "markdown",
      "source": [
        "**Report:**\n",
        "- The code trains a decision tree classifier on real estate data to predict price categories ('low', 'medium', 'high') based on property size and year. It visualizes the decision tree to understand how predictions are made. The model's performance is evaluated using a classification report, showing metrics like precision and recall for each category. Additionally, the accuracy score of the model on the entire dataset is computed and presented. Overall, the decision tree offers insights into pricing strategies and market analysis in real estate transactions."
      ],
      "metadata": {
        "id": "mhY7NygCxnhr"
      }
    },
    {
      "cell_type": "markdown",
      "source": [
        "**RANDOM FOREST**"
      ],
      "metadata": {
        "id": "L5KME5p4r421"
      }
    },
    {
      "cell_type": "code",
      "source": [
        "import pandas as pd\n",
        "from sklearn.model_selection import train_test_split\n",
        "from sklearn.ensemble import RandomForestClassifier\n",
        "from sklearn.metrics import accuracy_score\n",
        "\n",
        "# Load the dataset\n",
        "real_estate_data = pd.read_csv('/content/sample_data/real_estate_price_size_year.csv')\n",
        "\n",
        "real_estate_data['price_category'] = pd.qcut(real_estate_data['price'], q=2, labels=['low', 'high'])\n",
        "\n",
        "# Define features and target variable\n",
        "Xsa = real_estate_data[['size']]\n",
        "ysa = real_estate_data['price_category']\n",
        "\n",
        "X_train, X_test, y_train, y_test = train_test_split(Xsa, ysa, test_size=0.2, random_state=42)\n",
        "\n",
        "rf = RandomForestClassifier()\n",
        "rf.fit(X_train, y_train)\n",
        "\n",
        "y_pred = rf.predict(X_test)\n",
        "\n",
        "accuracy = accuracy_score(y_test, y_pred)\n",
        "print(\"Accuracy:\", accuracy)\n",
        "Accuracy = \"{:.0%}\".format(accuracy)\n",
        "print(\"Accuracy:\", Accuracy)\n",
        "\n"
      ],
      "metadata": {
        "colab": {
          "base_uri": "https://localhost:8080/"
        },
        "id": "83jFCcK6r7Oi",
        "outputId": "9dd7285b-7359-4538-bc0c-fd52fab09070"
      },
      "execution_count": null,
      "outputs": [
        {
          "output_type": "stream",
          "name": "stdout",
          "text": [
            "Accuracy: 0.8\n",
            "Accuracy: 80%\n"
          ]
        }
      ]
    },
    {
      "cell_type": "code",
      "source": [
        "import pandas as pd\n",
        "from sklearn.ensemble import RandomForestRegressor\n",
        "from sklearn.tree import export_graphviz\n",
        "import graphviz\n",
        "from IPython.display import display\n",
        "\n",
        "real_estate_data = pd.read_csv('/content/sample_data/real_estate_price_size_year.csv')\n",
        "\n",
        "X_train = real_estate_data[['size', 'year']]\n",
        "y_train = real_estate_data['price']\n",
        "\n",
        "# Train a random forest regressor\n",
        "rf = RandomForestRegressor(n_estimators=10, random_state=42)\n",
        "rf.fit(X_train, y_train)\n",
        "\n",
        "# Visualize decision trees from the random forest\n",
        "for i in range(2):\n",
        "    tree = rf.estimators_[i]\n",
        "    dot_data = export_graphviz(tree,\n",
        "                               feature_names=X_train.columns,\n",
        "                               filled=True,\n",
        "                               max_depth=2,\n",
        "                               impurity=False,\n",
        "                               proportion=True)\n",
        "    graph = graphviz.Source(dot_data)\n",
        "    display(graph)\n"
      ],
      "metadata": {
        "colab": {
          "base_uri": "https://localhost:8080/",
          "height": 855
        },
        "id": "Gj2Sor5RtGfK",
        "outputId": "65c9c770-5d0a-4631-84bb-0a47d9896158"
      },
      "execution_count": null,
      "outputs": [
        {
          "output_type": "display_data",
          "data": {
            "image/svg+xml": "<?xml version=\"1.0\" encoding=\"UTF-8\" standalone=\"no\"?>\n<!DOCTYPE svg PUBLIC \"-//W3C//DTD SVG 1.1//EN\"\n \"http://www.w3.org/Graphics/SVG/1.1/DTD/svg11.dtd\">\n<!-- Generated by graphviz version 2.43.0 (0)\n -->\n<!-- Title: Tree Pages: 1 -->\n<svg width=\"620pt\" height=\"311pt\"\n viewBox=\"0.00 0.00 620.00 311.00\" xmlns=\"http://www.w3.org/2000/svg\" xmlns:xlink=\"http://www.w3.org/1999/xlink\">\n<g id=\"graph0\" class=\"graph\" transform=\"scale(1 1) rotate(0) translate(4 307)\">\n<title>Tree</title>\n<polygon fill=\"white\" stroke=\"transparent\" points=\"-4,4 -4,-307 616,-307 616,4 -4,4\"/>\n<!-- 0 -->\n<g id=\"node1\" class=\"node\">\n<title>0</title>\n<polygon fill=\"#f5d0b5\" stroke=\"black\" points=\"362,-303 226,-303 226,-250 362,-250 362,-303\"/>\n<text text-anchor=\"middle\" x=\"294\" y=\"-287.8\" font-family=\"Helvetica,sans-Serif\" font-size=\"14.00\">size &lt;= 933.395</text>\n<text text-anchor=\"middle\" x=\"294\" y=\"-272.8\" font-family=\"Helvetica,sans-Serif\" font-size=\"14.00\">samples = 100.0%</text>\n<text text-anchor=\"middle\" x=\"294\" y=\"-257.8\" font-family=\"Helvetica,sans-Serif\" font-size=\"14.00\">value = 292430.158</text>\n</g>\n<!-- 1 -->\n<g id=\"node2\" class=\"node\">\n<title>1</title>\n<polygon fill=\"#f9e1cf\" stroke=\"black\" points=\"285,-214 149,-214 149,-161 285,-161 285,-214\"/>\n<text text-anchor=\"middle\" x=\"217\" y=\"-198.8\" font-family=\"Helvetica,sans-Serif\" font-size=\"14.00\">year &lt;= 2012.0</text>\n<text text-anchor=\"middle\" x=\"217\" y=\"-183.8\" font-family=\"Helvetica,sans-Serif\" font-size=\"14.00\">samples = 65.6%</text>\n<text text-anchor=\"middle\" x=\"217\" y=\"-168.8\" font-family=\"Helvetica,sans-Serif\" font-size=\"14.00\">value = 248323.179</text>\n</g>\n<!-- 0&#45;&gt;1 -->\n<g id=\"edge1\" class=\"edge\">\n<title>0&#45;&gt;1</title>\n<path fill=\"none\" stroke=\"black\" d=\"M271.31,-249.87C263.55,-241.1 254.75,-231.15 246.53,-221.86\"/>\n<polygon fill=\"black\" stroke=\"black\" points=\"249.04,-219.42 239.79,-214.25 243.8,-224.06 249.04,-219.42\"/>\n<text text-anchor=\"middle\" x=\"238.27\" y=\"-235.5\" font-family=\"Helvetica,sans-Serif\" font-size=\"14.00\">True</text>\n</g>\n<!-- 70 -->\n<g id=\"node9\" class=\"node\">\n<title>70</title>\n<polygon fill=\"#efaf82\" stroke=\"black\" points=\"439,-214 303,-214 303,-161 439,-161 439,-214\"/>\n<text text-anchor=\"middle\" x=\"371\" y=\"-198.8\" font-family=\"Helvetica,sans-Serif\" font-size=\"14.00\">size &lt;= 1096.945</text>\n<text text-anchor=\"middle\" x=\"371\" y=\"-183.8\" font-family=\"Helvetica,sans-Serif\" font-size=\"14.00\">samples = 34.4%</text>\n<text text-anchor=\"middle\" x=\"371\" y=\"-168.8\" font-family=\"Helvetica,sans-Serif\" font-size=\"14.00\">value = 378049.586</text>\n</g>\n<!-- 0&#45;&gt;70 -->\n<g id=\"edge8\" class=\"edge\">\n<title>0&#45;&gt;70</title>\n<path fill=\"none\" stroke=\"black\" d=\"M316.69,-249.87C324.45,-241.1 333.25,-231.15 341.47,-221.86\"/>\n<polygon fill=\"black\" stroke=\"black\" points=\"344.2,-224.06 348.21,-214.25 338.96,-219.42 344.2,-224.06\"/>\n<text text-anchor=\"middle\" x=\"349.73\" y=\"-235.5\" font-family=\"Helvetica,sans-Serif\" font-size=\"14.00\">False</text>\n</g>\n<!-- 2 -->\n<g id=\"node3\" class=\"node\">\n<title>2</title>\n<polygon fill=\"#fbece1\" stroke=\"black\" points=\"136,-125 0,-125 0,-72 136,-72 136,-125\"/>\n<text text-anchor=\"middle\" x=\"68\" y=\"-109.8\" font-family=\"Helvetica,sans-Serif\" font-size=\"14.00\">size &lt;= 713.085</text>\n<text text-anchor=\"middle\" x=\"68\" y=\"-94.8\" font-family=\"Helvetica,sans-Serif\" font-size=\"14.00\">samples = 25.0%</text>\n<text text-anchor=\"middle\" x=\"68\" y=\"-79.8\" font-family=\"Helvetica,sans-Serif\" font-size=\"14.00\">value = 218128.153</text>\n</g>\n<!-- 1&#45;&gt;2 -->\n<g id=\"edge2\" class=\"edge\">\n<title>1&#45;&gt;2</title>\n<path fill=\"none\" stroke=\"black\" d=\"M173.1,-160.87C156.65,-151.26 137.8,-140.25 120.64,-130.24\"/>\n<polygon fill=\"black\" stroke=\"black\" points=\"122.24,-127.12 111.84,-125.1 118.71,-133.16 122.24,-127.12\"/>\n</g>\n<!-- 29 -->\n<g id=\"node6\" class=\"node\">\n<title>29</title>\n<polygon fill=\"#f7dac5\" stroke=\"black\" points=\"282,-125 154,-125 154,-72 282,-72 282,-125\"/>\n<text text-anchor=\"middle\" x=\"218\" y=\"-109.8\" font-family=\"Helvetica,sans-Serif\" font-size=\"14.00\">size &lt;= 651.86</text>\n<text text-anchor=\"middle\" x=\"218\" y=\"-94.8\" font-family=\"Helvetica,sans-Serif\" font-size=\"14.00\">samples = 40.6%</text>\n<text text-anchor=\"middle\" x=\"218\" y=\"-79.8\" font-family=\"Helvetica,sans-Serif\" font-size=\"14.00\">value = 265577.48</text>\n</g>\n<!-- 1&#45;&gt;29 -->\n<g id=\"edge5\" class=\"edge\">\n<title>1&#45;&gt;29</title>\n<path fill=\"none\" stroke=\"black\" d=\"M217.29,-160.87C217.39,-152.89 217.49,-143.93 217.59,-135.38\"/>\n<polygon fill=\"black\" stroke=\"black\" points=\"221.09,-135.29 217.7,-125.25 214.09,-135.21 221.09,-135.29\"/>\n</g>\n<!-- 3 -->\n<g id=\"node4\" class=\"node\">\n<title>3</title>\n<polygon fill=\"#c0c0c0\" stroke=\"black\" points=\"71,-36 17,-36 17,0 71,0 71,-36\"/>\n<text text-anchor=\"middle\" x=\"44\" y=\"-14.3\" font-family=\"Helvetica,sans-Serif\" font-size=\"14.00\">(...)</text>\n</g>\n<!-- 2&#45;&gt;3 -->\n<g id=\"edge3\" class=\"edge\">\n<title>2&#45;&gt;3</title>\n<path fill=\"none\" stroke=\"black\" d=\"M60.14,-71.8C57.61,-63.53 54.81,-54.35 52.25,-46\"/>\n<polygon fill=\"black\" stroke=\"black\" points=\"55.57,-44.87 49.3,-36.33 48.88,-46.92 55.57,-44.87\"/>\n</g>\n<!-- 26 -->\n<g id=\"node5\" class=\"node\">\n<title>26</title>\n<polygon fill=\"#c0c0c0\" stroke=\"black\" points=\"143,-36 89,-36 89,0 143,0 143,-36\"/>\n<text text-anchor=\"middle\" x=\"116\" y=\"-14.3\" font-family=\"Helvetica,sans-Serif\" font-size=\"14.00\">(...)</text>\n</g>\n<!-- 2&#45;&gt;26 -->\n<g id=\"edge4\" class=\"edge\">\n<title>2&#45;&gt;26</title>\n<path fill=\"none\" stroke=\"black\" d=\"M83.72,-71.8C88.99,-63.17 94.88,-53.54 100.16,-44.9\"/>\n<polygon fill=\"black\" stroke=\"black\" points=\"103.17,-46.69 105.4,-36.33 97.2,-43.04 103.17,-46.69\"/>\n</g>\n<!-- 30 -->\n<g id=\"node7\" class=\"node\">\n<title>30</title>\n<polygon fill=\"#c0c0c0\" stroke=\"black\" points=\"230,-36 176,-36 176,0 230,0 230,-36\"/>\n<text text-anchor=\"middle\" x=\"203\" y=\"-14.3\" font-family=\"Helvetica,sans-Serif\" font-size=\"14.00\">(...)</text>\n</g>\n<!-- 29&#45;&gt;30 -->\n<g id=\"edge6\" class=\"edge\">\n<title>29&#45;&gt;30</title>\n<path fill=\"none\" stroke=\"black\" d=\"M213.09,-71.8C211.53,-63.62 209.79,-54.55 208.21,-46.27\"/>\n<polygon fill=\"black\" stroke=\"black\" points=\"211.63,-45.5 206.31,-36.33 204.75,-46.81 211.63,-45.5\"/>\n</g>\n<!-- 49 -->\n<g id=\"node8\" class=\"node\">\n<title>49</title>\n<polygon fill=\"#c0c0c0\" stroke=\"black\" points=\"302,-36 248,-36 248,0 302,0 302,-36\"/>\n<text text-anchor=\"middle\" x=\"275\" y=\"-14.3\" font-family=\"Helvetica,sans-Serif\" font-size=\"14.00\">(...)</text>\n</g>\n<!-- 29&#45;&gt;49 -->\n<g id=\"edge7\" class=\"edge\">\n<title>29&#45;&gt;49</title>\n<path fill=\"none\" stroke=\"black\" d=\"M236.66,-71.8C243,-63.08 250.06,-53.34 256.39,-44.63\"/>\n<polygon fill=\"black\" stroke=\"black\" points=\"259.37,-46.48 262.42,-36.33 253.71,-42.37 259.37,-46.48\"/>\n</g>\n<!-- 71 -->\n<g id=\"node10\" class=\"node\">\n<title>71</title>\n<polygon fill=\"#f2c09c\" stroke=\"black\" points=\"438,-125 302,-125 302,-72 438,-72 438,-125\"/>\n<text text-anchor=\"middle\" x=\"370\" y=\"-109.8\" font-family=\"Helvetica,sans-Serif\" font-size=\"14.00\">size &lt;= 1015.6</text>\n<text text-anchor=\"middle\" x=\"370\" y=\"-94.8\" font-family=\"Helvetica,sans-Serif\" font-size=\"14.00\">samples = 17.2%</text>\n<text text-anchor=\"middle\" x=\"370\" y=\"-79.8\" font-family=\"Helvetica,sans-Serif\" font-size=\"14.00\">value = 334529.462</text>\n</g>\n<!-- 70&#45;&gt;71 -->\n<g id=\"edge9\" class=\"edge\">\n<title>70&#45;&gt;71</title>\n<path fill=\"none\" stroke=\"black\" d=\"M370.71,-160.87C370.61,-152.89 370.51,-143.93 370.41,-135.38\"/>\n<polygon fill=\"black\" stroke=\"black\" points=\"373.91,-135.21 370.3,-125.25 366.91,-135.29 373.91,-135.21\"/>\n</g>\n<!-- 86 -->\n<g id=\"node13\" class=\"node\">\n<title>86</title>\n<polygon fill=\"#eca16b\" stroke=\"black\" points=\"592,-125 456,-125 456,-72 592,-72 592,-125\"/>\n<text text-anchor=\"middle\" x=\"524\" y=\"-109.8\" font-family=\"Helvetica,sans-Serif\" font-size=\"14.00\">size &lt;= 1506.795</text>\n<text text-anchor=\"middle\" x=\"524\" y=\"-94.8\" font-family=\"Helvetica,sans-Serif\" font-size=\"14.00\">samples = 17.2%</text>\n<text text-anchor=\"middle\" x=\"524\" y=\"-79.8\" font-family=\"Helvetica,sans-Serif\" font-size=\"14.00\">value = 416734.142</text>\n</g>\n<!-- 70&#45;&gt;86 -->\n<g id=\"edge12\" class=\"edge\">\n<title>70&#45;&gt;86</title>\n<path fill=\"none\" stroke=\"black\" d=\"M416.08,-160.87C432.97,-151.26 452.33,-140.25 469.95,-130.24\"/>\n<polygon fill=\"black\" stroke=\"black\" points=\"472.02,-133.08 478.98,-125.1 468.56,-127 472.02,-133.08\"/>\n</g>\n<!-- 72 -->\n<g id=\"node11\" class=\"node\">\n<title>72</title>\n<polygon fill=\"#c0c0c0\" stroke=\"black\" points=\"385,-36 331,-36 331,0 385,0 385,-36\"/>\n<text text-anchor=\"middle\" x=\"358\" y=\"-14.3\" font-family=\"Helvetica,sans-Serif\" font-size=\"14.00\">(...)</text>\n</g>\n<!-- 71&#45;&gt;72 -->\n<g id=\"edge10\" class=\"edge\">\n<title>71&#45;&gt;72</title>\n<path fill=\"none\" stroke=\"black\" d=\"M366.07,-71.8C364.82,-63.62 363.43,-54.55 362.17,-46.27\"/>\n<polygon fill=\"black\" stroke=\"black\" points=\"365.62,-45.69 360.65,-36.33 358.7,-46.74 365.62,-45.69\"/>\n</g>\n<!-- 75 -->\n<g id=\"node12\" class=\"node\">\n<title>75</title>\n<polygon fill=\"#c0c0c0\" stroke=\"black\" points=\"457,-36 403,-36 403,0 457,0 457,-36\"/>\n<text text-anchor=\"middle\" x=\"430\" y=\"-14.3\" font-family=\"Helvetica,sans-Serif\" font-size=\"14.00\">(...)</text>\n</g>\n<!-- 71&#45;&gt;75 -->\n<g id=\"edge11\" class=\"edge\">\n<title>71&#45;&gt;75</title>\n<path fill=\"none\" stroke=\"black\" d=\"M389.65,-71.8C396.38,-62.99 403.91,-53.14 410.62,-44.36\"/>\n<polygon fill=\"black\" stroke=\"black\" points=\"413.46,-46.4 416.75,-36.33 407.9,-42.15 413.46,-46.4\"/>\n</g>\n<!-- 87 -->\n<g id=\"node14\" class=\"node\">\n<title>87</title>\n<polygon fill=\"#c0c0c0\" stroke=\"black\" points=\"540,-36 486,-36 486,0 540,0 540,-36\"/>\n<text text-anchor=\"middle\" x=\"513\" y=\"-14.3\" font-family=\"Helvetica,sans-Serif\" font-size=\"14.00\">(...)</text>\n</g>\n<!-- 86&#45;&gt;87 -->\n<g id=\"edge13\" class=\"edge\">\n<title>86&#45;&gt;87</title>\n<path fill=\"none\" stroke=\"black\" d=\"M520.4,-71.8C519.25,-63.62 517.98,-54.55 516.82,-46.27\"/>\n<polygon fill=\"black\" stroke=\"black\" points=\"520.28,-45.75 515.43,-36.33 513.35,-46.72 520.28,-45.75\"/>\n</g>\n<!-- 106 -->\n<g id=\"node15\" class=\"node\">\n<title>106</title>\n<polygon fill=\"#c0c0c0\" stroke=\"black\" points=\"612,-36 558,-36 558,0 612,0 612,-36\"/>\n<text text-anchor=\"middle\" x=\"585\" y=\"-14.3\" font-family=\"Helvetica,sans-Serif\" font-size=\"14.00\">(...)</text>\n</g>\n<!-- 86&#45;&gt;106 -->\n<g id=\"edge14\" class=\"edge\">\n<title>86&#45;&gt;106</title>\n<path fill=\"none\" stroke=\"black\" d=\"M543.97,-71.8C550.82,-62.99 558.47,-53.14 565.3,-44.36\"/>\n<polygon fill=\"black\" stroke=\"black\" points=\"568.16,-46.37 571.53,-36.33 562.63,-42.08 568.16,-46.37\"/>\n</g>\n</g>\n</svg>\n",
            "text/plain": [
              "<graphviz.sources.Source at 0x7f2e2a9f1810>"
            ]
          },
          "metadata": {}
        },
        {
          "output_type": "display_data",
          "data": {
            "image/svg+xml": "<?xml version=\"1.0\" encoding=\"UTF-8\" standalone=\"no\"?>\n<!DOCTYPE svg PUBLIC \"-//W3C//DTD SVG 1.1//EN\"\n \"http://www.w3.org/Graphics/SVG/1.1/DTD/svg11.dtd\">\n<!-- Generated by graphviz version 2.43.0 (0)\n -->\n<!-- Title: Tree Pages: 1 -->\n<svg width=\"625pt\" height=\"311pt\"\n viewBox=\"0.00 0.00 625.00 311.00\" xmlns=\"http://www.w3.org/2000/svg\" xmlns:xlink=\"http://www.w3.org/1999/xlink\">\n<g id=\"graph0\" class=\"graph\" transform=\"scale(1 1) rotate(0) translate(4 307)\">\n<title>Tree</title>\n<polygon fill=\"white\" stroke=\"transparent\" points=\"-4,4 -4,-307 621,-307 621,4 -4,4\"/>\n<!-- 0 -->\n<g id=\"node1\" class=\"node\">\n<title>0</title>\n<polygon fill=\"#f6d4bb\" stroke=\"black\" points=\"367,-303 231,-303 231,-250 367,-250 367,-303\"/>\n<text text-anchor=\"middle\" x=\"299\" y=\"-287.8\" font-family=\"Helvetica,sans-Serif\" font-size=\"14.00\">size &lt;= 827.465</text>\n<text text-anchor=\"middle\" x=\"299\" y=\"-272.8\" font-family=\"Helvetica,sans-Serif\" font-size=\"14.00\">samples = 100.0%</text>\n<text text-anchor=\"middle\" x=\"299\" y=\"-257.8\" font-family=\"Helvetica,sans-Serif\" font-size=\"14.00\">value = 281776.236</text>\n</g>\n<!-- 1 -->\n<g id=\"node2\" class=\"node\">\n<title>1</title>\n<polygon fill=\"#f9e2d1\" stroke=\"black\" points=\"290,-214 154,-214 154,-161 290,-161 290,-214\"/>\n<text text-anchor=\"middle\" x=\"222\" y=\"-198.8\" font-family=\"Helvetica,sans-Serif\" font-size=\"14.00\">year &lt;= 2012.0</text>\n<text text-anchor=\"middle\" x=\"222\" y=\"-183.8\" font-family=\"Helvetica,sans-Serif\" font-size=\"14.00\">samples = 71.0%</text>\n<text text-anchor=\"middle\" x=\"222\" y=\"-168.8\" font-family=\"Helvetica,sans-Serif\" font-size=\"14.00\">value = 245725.169</text>\n</g>\n<!-- 0&#45;&gt;1 -->\n<g id=\"edge1\" class=\"edge\">\n<title>0&#45;&gt;1</title>\n<path fill=\"none\" stroke=\"black\" d=\"M276.31,-249.87C268.55,-241.1 259.75,-231.15 251.53,-221.86\"/>\n<polygon fill=\"black\" stroke=\"black\" points=\"254.04,-219.42 244.79,-214.25 248.8,-224.06 254.04,-219.42\"/>\n<text text-anchor=\"middle\" x=\"243.27\" y=\"-235.5\" font-family=\"Helvetica,sans-Serif\" font-size=\"14.00\">True</text>\n</g>\n<!-- 72 -->\n<g id=\"node9\" class=\"node\">\n<title>72</title>\n<polygon fill=\"#eeaf81\" stroke=\"black\" points=\"440,-214 312,-214 312,-161 440,-161 440,-214\"/>\n<text text-anchor=\"middle\" x=\"376\" y=\"-198.8\" font-family=\"Helvetica,sans-Serif\" font-size=\"14.00\">size &lt;= 1260.39</text>\n<text text-anchor=\"middle\" x=\"376\" y=\"-183.8\" font-family=\"Helvetica,sans-Serif\" font-size=\"14.00\">samples = 29.0%</text>\n<text text-anchor=\"middle\" x=\"376\" y=\"-168.8\" font-family=\"Helvetica,sans-Serif\" font-size=\"14.00\">value = 379247.64</text>\n</g>\n<!-- 0&#45;&gt;72 -->\n<g id=\"edge8\" class=\"edge\">\n<title>0&#45;&gt;72</title>\n<path fill=\"none\" stroke=\"black\" d=\"M321.69,-249.87C329.45,-241.1 338.25,-231.15 346.47,-221.86\"/>\n<polygon fill=\"black\" stroke=\"black\" points=\"349.2,-224.06 353.21,-214.25 343.96,-219.42 349.2,-224.06\"/>\n<text text-anchor=\"middle\" x=\"354.73\" y=\"-235.5\" font-family=\"Helvetica,sans-Serif\" font-size=\"14.00\">False</text>\n</g>\n<!-- 2 -->\n<g id=\"node3\" class=\"node\">\n<title>2</title>\n<polygon fill=\"#fbe9dd\" stroke=\"black\" points=\"136,-125 0,-125 0,-72 136,-72 136,-125\"/>\n<text text-anchor=\"middle\" x=\"68\" y=\"-109.8\" font-family=\"Helvetica,sans-Serif\" font-size=\"14.00\">size &lt;= 681.665</text>\n<text text-anchor=\"middle\" x=\"68\" y=\"-94.8\" font-family=\"Helvetica,sans-Serif\" font-size=\"14.00\">samples = 24.2%</text>\n<text text-anchor=\"middle\" x=\"68\" y=\"-79.8\" font-family=\"Helvetica,sans-Serif\" font-size=\"14.00\">value = 225498.054</text>\n</g>\n<!-- 1&#45;&gt;2 -->\n<g id=\"edge2\" class=\"edge\">\n<title>1&#45;&gt;2</title>\n<path fill=\"none\" stroke=\"black\" d=\"M176.63,-160.87C159.63,-151.26 140.14,-140.25 122.41,-130.24\"/>\n<polygon fill=\"black\" stroke=\"black\" points=\"123.74,-126.97 113.31,-125.1 120.3,-133.07 123.74,-126.97\"/>\n</g>\n<!-- 25 -->\n<g id=\"node6\" class=\"node\">\n<title>25</title>\n<polygon fill=\"#f8deca\" stroke=\"black\" points=\"290,-125 154,-125 154,-72 290,-72 290,-125\"/>\n<text text-anchor=\"middle\" x=\"222\" y=\"-109.8\" font-family=\"Helvetica,sans-Serif\" font-size=\"14.00\">size &lt;= 559.485</text>\n<text text-anchor=\"middle\" x=\"222\" y=\"-94.8\" font-family=\"Helvetica,sans-Serif\" font-size=\"14.00\">samples = 46.8%</text>\n<text text-anchor=\"middle\" x=\"222\" y=\"-79.8\" font-family=\"Helvetica,sans-Serif\" font-size=\"14.00\">value = 256260.125</text>\n</g>\n<!-- 1&#45;&gt;25 -->\n<g id=\"edge5\" class=\"edge\">\n<title>1&#45;&gt;25</title>\n<path fill=\"none\" stroke=\"black\" d=\"M222,-160.87C222,-152.89 222,-143.93 222,-135.38\"/>\n<polygon fill=\"black\" stroke=\"black\" points=\"225.5,-135.25 222,-125.25 218.5,-135.25 225.5,-135.25\"/>\n</g>\n<!-- 3 -->\n<g id=\"node4\" class=\"node\">\n<title>3</title>\n<polygon fill=\"#c0c0c0\" stroke=\"black\" points=\"74,-36 20,-36 20,0 74,0 74,-36\"/>\n<text text-anchor=\"middle\" x=\"47\" y=\"-14.3\" font-family=\"Helvetica,sans-Serif\" font-size=\"14.00\">(...)</text>\n</g>\n<!-- 2&#45;&gt;3 -->\n<g id=\"edge3\" class=\"edge\">\n<title>2&#45;&gt;3</title>\n<path fill=\"none\" stroke=\"black\" d=\"M61.12,-71.8C58.91,-63.53 56.46,-54.35 54.22,-46\"/>\n<polygon fill=\"black\" stroke=\"black\" points=\"57.6,-45.09 51.64,-36.33 50.84,-46.9 57.6,-45.09\"/>\n</g>\n<!-- 16 -->\n<g id=\"node5\" class=\"node\">\n<title>16</title>\n<polygon fill=\"#c0c0c0\" stroke=\"black\" points=\"146,-36 92,-36 92,0 146,0 146,-36\"/>\n<text text-anchor=\"middle\" x=\"119\" y=\"-14.3\" font-family=\"Helvetica,sans-Serif\" font-size=\"14.00\">(...)</text>\n</g>\n<!-- 2&#45;&gt;16 -->\n<g id=\"edge4\" class=\"edge\">\n<title>2&#45;&gt;16</title>\n<path fill=\"none\" stroke=\"black\" d=\"M84.7,-71.8C90.31,-63.17 96.56,-53.54 102.17,-44.9\"/>\n<polygon fill=\"black\" stroke=\"black\" points=\"105.23,-46.62 107.74,-36.33 99.36,-42.81 105.23,-46.62\"/>\n</g>\n<!-- 26 -->\n<g id=\"node7\" class=\"node\">\n<title>26</title>\n<polygon fill=\"#c0c0c0\" stroke=\"black\" points=\"233,-36 179,-36 179,0 233,0 233,-36\"/>\n<text text-anchor=\"middle\" x=\"206\" y=\"-14.3\" font-family=\"Helvetica,sans-Serif\" font-size=\"14.00\">(...)</text>\n</g>\n<!-- 25&#45;&gt;26 -->\n<g id=\"edge6\" class=\"edge\">\n<title>25&#45;&gt;26</title>\n<path fill=\"none\" stroke=\"black\" d=\"M216.76,-71.8C215.09,-63.62 213.25,-54.55 211.56,-46.27\"/>\n<polygon fill=\"black\" stroke=\"black\" points=\"214.96,-45.43 209.53,-36.33 208.1,-46.83 214.96,-45.43\"/>\n</g>\n<!-- 33 -->\n<g id=\"node8\" class=\"node\">\n<title>33</title>\n<polygon fill=\"#c0c0c0\" stroke=\"black\" points=\"305,-36 251,-36 251,0 305,0 305,-36\"/>\n<text text-anchor=\"middle\" x=\"278\" y=\"-14.3\" font-family=\"Helvetica,sans-Serif\" font-size=\"14.00\">(...)</text>\n</g>\n<!-- 25&#45;&gt;33 -->\n<g id=\"edge7\" class=\"edge\">\n<title>25&#45;&gt;33</title>\n<path fill=\"none\" stroke=\"black\" d=\"M240.34,-71.8C246.56,-63.08 253.5,-53.34 259.72,-44.63\"/>\n<polygon fill=\"black\" stroke=\"black\" points=\"262.68,-46.5 265.64,-36.33 256.98,-42.44 262.68,-46.5\"/>\n</g>\n<!-- 73 -->\n<g id=\"node10\" class=\"node\">\n<title>73</title>\n<polygon fill=\"#f2be99\" stroke=\"black\" points=\"444,-125 308,-125 308,-72 444,-72 444,-125\"/>\n<text text-anchor=\"middle\" x=\"376\" y=\"-109.8\" font-family=\"Helvetica,sans-Serif\" font-size=\"14.00\">size &lt;= 1025.18</text>\n<text text-anchor=\"middle\" x=\"376\" y=\"-94.8\" font-family=\"Helvetica,sans-Serif\" font-size=\"14.00\">samples = 17.7%</text>\n<text text-anchor=\"middle\" x=\"376\" y=\"-79.8\" font-family=\"Helvetica,sans-Serif\" font-size=\"14.00\">value = 338571.214</text>\n</g>\n<!-- 72&#45;&gt;73 -->\n<g id=\"edge9\" class=\"edge\">\n<title>72&#45;&gt;73</title>\n<path fill=\"none\" stroke=\"black\" d=\"M376,-160.87C376,-152.89 376,-143.93 376,-135.38\"/>\n<polygon fill=\"black\" stroke=\"black\" points=\"379.5,-135.25 376,-125.25 372.5,-135.25 379.5,-135.25\"/>\n</g>\n<!-- 92 -->\n<g id=\"node13\" class=\"node\">\n<title>92</title>\n<polygon fill=\"#ea995e\" stroke=\"black\" points=\"598,-125 462,-125 462,-72 598,-72 598,-125\"/>\n<text text-anchor=\"middle\" x=\"530\" y=\"-109.8\" font-family=\"Helvetica,sans-Serif\" font-size=\"14.00\">size &lt;= 1506.795</text>\n<text text-anchor=\"middle\" x=\"530\" y=\"-94.8\" font-family=\"Helvetica,sans-Serif\" font-size=\"14.00\">samples = 11.3%</text>\n<text text-anchor=\"middle\" x=\"530\" y=\"-79.8\" font-family=\"Helvetica,sans-Serif\" font-size=\"14.00\">value = 438413.351</text>\n</g>\n<!-- 72&#45;&gt;92 -->\n<g id=\"edge12\" class=\"edge\">\n<title>72&#45;&gt;92</title>\n<path fill=\"none\" stroke=\"black\" d=\"M421.37,-160.87C438.37,-151.26 457.86,-140.25 475.59,-130.24\"/>\n<polygon fill=\"black\" stroke=\"black\" points=\"477.7,-133.07 484.69,-125.1 474.26,-126.97 477.7,-133.07\"/>\n</g>\n<!-- 74 -->\n<g id=\"node11\" class=\"node\">\n<title>74</title>\n<polygon fill=\"#c0c0c0\" stroke=\"black\" points=\"390,-36 336,-36 336,0 390,0 390,-36\"/>\n<text text-anchor=\"middle\" x=\"363\" y=\"-14.3\" font-family=\"Helvetica,sans-Serif\" font-size=\"14.00\">(...)</text>\n</g>\n<!-- 73&#45;&gt;74 -->\n<g id=\"edge10\" class=\"edge\">\n<title>73&#45;&gt;74</title>\n<path fill=\"none\" stroke=\"black\" d=\"M371.74,-71.8C370.39,-63.62 368.89,-54.55 367.52,-46.27\"/>\n<polygon fill=\"black\" stroke=\"black\" points=\"370.96,-45.62 365.87,-36.33 364.05,-46.77 370.96,-45.62\"/>\n</g>\n<!-- 81 -->\n<g id=\"node12\" class=\"node\">\n<title>81</title>\n<polygon fill=\"#c0c0c0\" stroke=\"black\" points=\"462,-36 408,-36 408,0 462,0 462,-36\"/>\n<text text-anchor=\"middle\" x=\"435\" y=\"-14.3\" font-family=\"Helvetica,sans-Serif\" font-size=\"14.00\">(...)</text>\n</g>\n<!-- 73&#45;&gt;81 -->\n<g id=\"edge11\" class=\"edge\">\n<title>73&#45;&gt;81</title>\n<path fill=\"none\" stroke=\"black\" d=\"M395.32,-71.8C401.94,-62.99 409.34,-53.14 415.94,-44.36\"/>\n<polygon fill=\"black\" stroke=\"black\" points=\"418.76,-46.43 421.97,-36.33 413.17,-42.22 418.76,-46.43\"/>\n</g>\n<!-- 93 -->\n<g id=\"node14\" class=\"node\">\n<title>93</title>\n<polygon fill=\"#c0c0c0\" stroke=\"black\" points=\"545,-36 491,-36 491,0 545,0 545,-36\"/>\n<text text-anchor=\"middle\" x=\"518\" y=\"-14.3\" font-family=\"Helvetica,sans-Serif\" font-size=\"14.00\">(...)</text>\n</g>\n<!-- 92&#45;&gt;93 -->\n<g id=\"edge13\" class=\"edge\">\n<title>92&#45;&gt;93</title>\n<path fill=\"none\" stroke=\"black\" d=\"M526.07,-71.8C524.82,-63.62 523.43,-54.55 522.17,-46.27\"/>\n<polygon fill=\"black\" stroke=\"black\" points=\"525.62,-45.69 520.65,-36.33 518.7,-46.74 525.62,-45.69\"/>\n</g>\n<!-- 102 -->\n<g id=\"node15\" class=\"node\">\n<title>102</title>\n<polygon fill=\"#c0c0c0\" stroke=\"black\" points=\"617,-36 563,-36 563,0 617,0 617,-36\"/>\n<text text-anchor=\"middle\" x=\"590\" y=\"-14.3\" font-family=\"Helvetica,sans-Serif\" font-size=\"14.00\">(...)</text>\n</g>\n<!-- 92&#45;&gt;102 -->\n<g id=\"edge14\" class=\"edge\">\n<title>92&#45;&gt;102</title>\n<path fill=\"none\" stroke=\"black\" d=\"M549.65,-71.8C556.38,-62.99 563.91,-53.14 570.62,-44.36\"/>\n<polygon fill=\"black\" stroke=\"black\" points=\"573.46,-46.4 576.75,-36.33 567.9,-42.15 573.46,-46.4\"/>\n</g>\n</g>\n</svg>\n",
            "text/plain": [
              "<graphviz.sources.Source at 0x7f2e2a9f1ba0>"
            ]
          },
          "metadata": {}
        }
      ]
    },
    {
      "cell_type": "markdown",
      "source": [
        "**Report:**\n",
        "- The Random Forest Classifier achieved a 80% accuracy in categorizing real estate prices as low or high based on property size alone. However, this accuracy may be limited due to the simplistic use of only one feature. The Random Forest Regressor, trained on size and year features to predict price, visualizes decision trees to offer insights into the model's decision-making process. While decision tree visualization aids interpretability, additional evaluation metrics like mean absolute error could provide a more comprehensive understanding of the model's performance. Further refinement, including the incorporation of additional relevant features, may improve predictive accuracy and provide more actionable insights."
      ],
      "metadata": {
        "id": "nVNz4poCuUqj"
      }
    }
  ]
}